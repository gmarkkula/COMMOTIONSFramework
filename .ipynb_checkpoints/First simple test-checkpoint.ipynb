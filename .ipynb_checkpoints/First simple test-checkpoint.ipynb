{
 "cells": [
  {
   "cell_type": "code",
   "execution_count": 1,
   "metadata": {},
   "outputs": [
    {
     "data": {
      "image/png": "[encoded data removed]",
      "text/plain": [
       "<Figure size 432x288 with 1 Axes>"
      ]
     },
     "metadata": {
      "needs_background": "light"
     },
     "output_type": "display_data"
    }
   ],
   "source": [
    "%reset -f\n",
    "\n",
    "import numpy as np\n",
    "import matplotlib.pyplot as plt\n",
    "import math\n",
    "\n",
    "PARAM_k_g = 1\n",
    "PARAM_k_o = 1\n",
    "PARAM_C_v = 1\n",
    "PARAM_C_t = 1\n",
    "\n",
    "LATERAL_OBSTACLE_CLEARANCE_DISTANCE = 1\n",
    "\n",
    "START_TIME = 0 # s\n",
    "END_TIME = 10 # s\n",
    "TIME_STEP = 0.05 # s\n",
    "TIME_STAMPS = np.arange(START_TIME, END_TIME, TIME_STEP)\n",
    "\n",
    "SPEED_ACTIONS = np.array([-2, -1, 0, 1, 2]) # m/s\n",
    "HEADING_ACTIONS = np.array([-10, -5, 0, 5, 10]) * math.pi/180 # rad\n",
    "\n",
    "ACTION_DURATION = 0.3 # s\n",
    "PREDICTION_TIME = ACTION_DURATION\n",
    "ACTION_TIME_STEPS = math.ceil(ACTION_DURATION / TIME_STEP)\n",
    "PREDICTION_TIME_STEPS = math.ceil(PREDICTION_TIME / TIME_STEP)\n",
    "\n",
    "ACTIONS_VECTOR_LENGTH = TIME_STAMPS.size + PREDICTION_TIME_STEPS\n",
    "accelerations = np.zeros(ACTIONS_VECTOR_LENGTH)\n",
    "yaw_rates = np.zeros(ACTIONS_VECTOR_LENGTH)\n",
    "\n",
    "\n",
    "X_O = np.array([5, 5])\n",
    "X_G = np.array([10, 10])\n",
    "\n",
    "\n",
    "\n",
    "def simulate(local_x, local_speed, local_heading, \n",
    "             local_accelerations, local_yaw_rates, \n",
    "             i_curr_time_step, n_time_steps_to_advance):\n",
    "    \n",
    "    for i in range(i_curr_time_step + 1, i_curr_time_step + n_time_steps_to_advance + 1):\n",
    "        local_speed += local_accelerations[i-1] * TIME_STEP\n",
    "        local_heading += local_yaw_rates[i-1] * TIME_STEP\n",
    "        local_x = local_x + TIME_STEP * local_speed \\\n",
    "            * np.array([math.cos(local_heading), math.sin(local_heading)])\n",
    "    return (local_x, local_speed, local_heading)\n",
    "\n",
    "\n",
    "def add_action(state_vector, action_magnitude, i_action_time_step):\n",
    "    state_vector[i_action_time_step:i_action_time_step+ACTION_TIME_STEPS] += \\\n",
    "        action_magnitude / ACTION_DURATION;\n",
    "\n",
    "    \n",
    "def get_value_of_state(x, speed, heading):\n",
    "    \n",
    "    vector_to_goal = X_G - x\n",
    "    heading_to_goal_vector = vector_to_goal / np.linalg.norm(vector_to_goal)\n",
    "    \n",
    "    vector_to_obstacle = X_O - x\n",
    "    heading_to_obstacle_vector = vector_to_obstacle / np.linalg.norm(vector_to_obstacle)\n",
    "    \n",
    "    heading_vector = np.array([math.cos(heading), math.sin(heading)])\n",
    "    \n",
    "    heading_toward_goal_component = np.dot(heading_vector, heading_to_goal_vector)\n",
    "    goal_distance_change_rate = -np.linalg.norm(heading_toward_goal_component) * speed\n",
    "    \n",
    "    heading_toward_obstacle_component = np.dot(heading_vector, heading_to_obstacle_vector)\n",
    "    angle_to_obstacle_rel_heading = math.acos(heading_toward_obstacle_component)\n",
    "    lateral_distance_to_obstacle = np.linalg.norm(vector_to_obstacle) * math.sin(angle_to_obstacle_rel_heading)\n",
    "    if lateral_distance_to_obstacle < LATERAL_OBSTACLE_CLEARANCE_DISTANCE:\n",
    "        long_distance_to_obstacle = np.linalg.norm(vector_to_obstacle) * math.cos(angle_to_obstacle_rel_heading)\n",
    "        time_to_obstacle_collision = long_distance_to_obstacle / speed\n",
    "    else:\n",
    "        time_to_obstacle_collision = math.inf\n",
    "    \n",
    "    value = -PARAM_k_g * goal_distance_change_rate - PARAM_k_o / time_to_obstacle_collision \\\n",
    "        - PARAM_C_v * speed ** 2\n",
    "    \n",
    "    return value\n",
    "\n",
    "\n",
    "x = np.array([0, 0])\n",
    "speed = 0 # m/s\n",
    "heading = 0 # rad\n",
    "\n",
    "\n",
    "plt.plot(X_O[0], X_O[1], 'r^')\n",
    "plt.plot(X_G[0], X_G[1], 'g+')\n",
    "\n",
    "for i_time_step, time_stamp in enumerate(TIME_STAMPS):\n",
    "    \n",
    "    # decide on action for this time step - by looping through the alternatives and getting predicted rewards\n",
    "    best_value = -math.inf\n",
    "    for i_speed_action, speed_action in enumerate(SPEED_ACTIONS):\n",
    "        \n",
    "        # make acceleration predictions\n",
    "        if speed_action == 0:\n",
    "            predicted_accelerations = accelerations\n",
    "        else:\n",
    "            predicted_accelerations = np.copy(accelerations)\n",
    "            add_action(predicted_accelerations, speed_action, i_time_step)\n",
    "        \n",
    "        for i_heading_action, heading_action in enumerate(HEADING_ACTIONS):\n",
    "\n",
    "            # make heading predictions\n",
    "            if heading_action == 0:\n",
    "                predicted_yaw_rates = yaw_rates\n",
    "            else:\n",
    "                predicted_yaw_rates = np.copy(yaw_rates)\n",
    "                add_action(predicted_yaw_rates, heading_action, i_time_step)\n",
    "            \n",
    "            # get predicted state with this action combination\n",
    "            (pred_x, pred_speed, pred_heading) = \\\n",
    "                simulate(x, speed, heading, predicted_accelerations, \\\n",
    "                         predicted_yaw_rates, i_time_step, PREDICTION_TIME_STEPS)                \n",
    "            \n",
    "            # get value of the predicted state\n",
    "            this_action_value = get_value_of_state(pred_x, pred_speed, pred_heading) \\\n",
    "                - PARAM_C_t * heading_action ** 2\n",
    "                \n",
    "            if this_action_value > best_value:\n",
    "                best_value = this_action_value\n",
    "                best_speed_action = speed_action\n",
    "                best_heading_action = heading_action\n",
    "    \n",
    "    # execute the selected actions\n",
    "    if best_speed_action != 0:\n",
    "        print('%f s: speed action %f' % (time_stamp, best_speed_action))\n",
    "        add_action(accelerations, best_speed_action, i_time_step)\n",
    "    if best_heading_action != 0:\n",
    "        print('%f s: heading action %f' % (time_stamp, best_heading_action))\n",
    "        add_action(yaw_rates, best_heading_action, i_time_step)\n",
    "            \n",
    "    # do Euler step\n",
    "    (x, speed, heading) = simulate(x, speed, heading, accelerations, yaw_rates, i_time_step, 1)\n",
    "    plt.plot(x[0], x[1], 'ko')\n",
    "\n",
    "plt.show()\n",
    "\n"
   ]
  },
  {
   "cell_type": "code",
   "execution_count": 19,
   "metadata": {},
   "outputs": [
    {
     "data": {
      "text/plain": [
       "1"
      ]
     },
     "execution_count": 19,
     "metadata": {},
     "output_type": "execute_result"
    }
   ],
   "source": [
    "a = (1, 2)\n",
    "a[0]"
   ]
  },
  {
   "cell_type": "code",
   "execution_count": 26,
   "metadata": {},
   "outputs": [
    {
     "name": "stdout",
     "output_type": "stream",
     "text": [
      "1\n"
     ]
    }
   ],
   "source": [
    "for i in range(1, 2):\n",
    "    print(i)"
   ]
  },
  {
   "cell_type": "code",
   "execution_count": null,
   "metadata": {},
   "outputs": [],
   "source": []
  }
 ],
 "metadata": {
  "kernelspec": {
   "display_name": "Python 3",
   "language": "python",
   "name": "python3"
  },
  "language_info": {
   "codemirror_mode": {
    "name": "ipython",
    "version": 3
   },
   "file_extension": ".py",
   "mimetype": "text/x-python",
   "name": "python",
   "nbconvert_exporter": "python",
   "pygments_lexer": "ipython3",
   "version": "3.7.6"
  }
 },
 "nbformat": 4,
 "nbformat_minor": 4
}
