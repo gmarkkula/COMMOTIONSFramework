{
 "cells": [
  {
   "cell_type": "markdown",
   "id": "breathing-bonus",
   "metadata": {},
   "source": [
    "# 2021-12-07 Deciding on parameter ranges to search for noisy perception and decision-making\n",
    "\n",
    "## Fixed parameters\n",
    "* For simplicity, fixing eye height over ground to $H_e = 1.5$ for both agents.\n",
    "* Fixing $\\sigma_{\\dot{x}}$ = 0.1 m/s, gives sensible-looking simulation results for some different $\\tau$ values (around $\\tau$ = 0.05 rad for `oSNv`). See e.g. 2021-11-12 tests; but I have also done some separate testing not documented in diary notes.\n",
    "\n",
    "## Free parameters\n",
    "\n",
    "### Sensory noise ($\\tau$)\n",
    "\n",
    "Somewhat more complicated than most other free parameters, since different parameter ranges are sensible for different model assumptions; as seen in the 2021-11-12 notes the model with `oPF` behaves sensibly at noise levels that would be completely crippling without `oPF`. And also `oSNv` and `oSNv` has noise in different units.\n",
    "\n",
    "#### With `oPF` enabled\n",
    "\n",
    "##### With `oSNv`\n",
    "A \"sensible\" value for $\\tau$ under `oSNv` would seem to be on the order of magnitude of 1 deg $\\approx$ 0.02 rad - and that aligns with the sensible-looking results around $\\tau$ = 0.05 rad for `*oSNvoPF*` in the 2021-11-12 notes. It might be an order of magnitude smaller or larger, but not two orders of magnitude smaller or larger I think? So maybe a \\[0.002, 0.2\\] rad parameter range to begin with? \n",
    "\n",
    "##### With `oSNc`\n",
    "\n",
    "To choose a sensible value for $\\tau$ under `oSNc`, maybe assume that the noise should be the same as for `oSNv` at some intermediate range, say 3 s away at 50 km/h, i.e., at a distance of $d_o$ = 3 * 50 / 3.6 = 41.7 m? From the 2021-11-02 handwritten notes, and assuming that the ego agent is standing in the middle of the road ($d_e$ = 0, so $D = d_o$) and taking $h \\ll d_o$ and $\\sigma_{\\theta} = \\tau_{\\theta}$ small: $\\tau_{d} = \\sigma_d = d_o^2 \\tau_\\theta / (h + d_o \\tau_\\theta)$ = 41.2<sup>2</sup> * 0.02 / (1.5 + 41.2 * 0.02) = 33.9 / 2.32 = 14.6 m. Which aligns with me getting somewhat similar results in the 2021-11-12 notes for `oSNc` with $\\tau$ = 20 m as for `oSNv` with $\\tau$ = 0.05 rad. By the same logic as above that would then imply something like a \\[1, 100\\] m range, which sounds a little excessive in the upper range... Maybe \\[0.1, 50\\] m, more to account for the fact that there is a lot of uncertainty here, and it's anyway sort of obvious that this kind of noise isn't really sensible?\n",
    "\n",
    "#### Without `oPF`\n",
    "\n",
    "Based on the tests in the 2021-11-12 notes, I think using the same ranges as with `oPF` makes sense, but scaled by a factor 0.01.\n",
    "\n",
    "### Accumulation time constant ($T$)\n",
    "\n",
    "The results in the 2021-11-12 for $T$ = 0.2 look pretty nice, so a \\[0.1, 0.5\\] s range seems reasonable.\n",
    "\n",
    "### Accumulation threshold ($\\Delta V_{th,rel}$)\n",
    "\n",
    "Based on the nice-looking results from 2021-11-12 for $V_{th,rel}$ = 0.005 as well as on some further separate tests, I think a \\[0.001, 0.1\\] range seems promising.\n",
    "\n",
    "### Accumulator noise ($\\sigma_V$)\n",
    "\n",
    "The range explored in the 2021-11-12 tests was 0.01 * \\[0.5, 10\\], which looked sort of reasonable, so let's go with that: \\[0.005, 0.1\\], or why not even to \\[0.001, 0.1\\] for consistency.\n"
   ]
  }
 ],
 "metadata": {
  "kernelspec": {
   "display_name": "Python 3",
   "language": "python",
   "name": "python3"
  },
  "language_info": {
   "codemirror_mode": {
    "name": "ipython",
    "version": 3
   },
   "file_extension": ".py",
   "mimetype": "text/x-python",
   "name": "python",
   "nbconvert_exporter": "python",
   "pygments_lexer": "ipython3",
   "version": "3.9.2"
  }
 },
 "nbformat": 4,
 "nbformat_minor": 5
}
