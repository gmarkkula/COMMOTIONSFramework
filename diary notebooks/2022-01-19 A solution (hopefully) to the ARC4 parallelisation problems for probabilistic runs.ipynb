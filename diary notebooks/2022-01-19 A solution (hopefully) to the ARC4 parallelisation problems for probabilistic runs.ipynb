{
 "cells": [
  {
   "cell_type": "markdown",
   "id": "acknowledged-characterization",
   "metadata": {},
   "source": [
    "# 2022-01-19 A solution (hopefully) to the ARC4 parallelisation problems for probabilistic runs\n",
    "\n",
    "Also the combined fits turned out to have the same problem as described in the 2022-01-17 notes, and after running more tests it seems that it has to do with initialisation of numpy's random number generation, because when I modified the `test_random_draws.py` script, which mysteriously didn't have the parallelisation problem previously (2022-01-17), so that now the only thing it ran was a parallelised run with noise, rather than first a serial run and then a parallelised one, the problem occurred also for that script. And when I added the following code snippet to the script, before any of the `run_fit()` calls where the parallelisation happens, the problem disappeared again:\n",
    "\n",
    "    scen = sc_fitting.PROB_FIT_SCENARIOS['Encounter']\n",
    "    sim = sc_fitting.construct_model_and_simulate_scenario('oVAoEAoSNvoPF', {'T': 0.2, 'DeltaV_th_rel': 0.01, 'tau_theta': 0.1}, scen)\n",
    "    sc_fitting.get_metrics_for_scenario(scen, sim, verbose=True)\n",
    "\n",
    "And adding the same snippet to `do_5...` similarly allowed that script to run at full parallelised speed.\n",
    "\n",
    "I have downloaded the ARC4 logs for the `test_random_draws.py` runs to `SCPaper/tests/test_random_draws/2022-01-19`, together with the final version of the script itself, including the added code snippet.\n",
    "\n",
    "So somehow, using `numpy.random` for the first time inside a `multiprocessing` worker thread seems to cause this problem - but only on ARC4, not on my computer. So either a Windows/Linux difference, or an effect of how ARC4 deals with the multithreading or similar? Anyway, I will now try to add a code snippet like the above to `do_8_combined_fitting.py` and try running it on ARC4 again.\n"
   ]
  }
 ],
 "metadata": {
  "kernelspec": {
   "display_name": "Python 3",
   "language": "python",
   "name": "python3"
  },
  "language_info": {
   "codemirror_mode": {
    "name": "ipython",
    "version": 3
   },
   "file_extension": ".py",
   "mimetype": "text/x-python",
   "name": "python",
   "nbconvert_exporter": "python",
   "pygments_lexer": "ipython3",
   "version": "3.9.2"
  }
 },
 "nbformat": 4,
 "nbformat_minor": 5
}
