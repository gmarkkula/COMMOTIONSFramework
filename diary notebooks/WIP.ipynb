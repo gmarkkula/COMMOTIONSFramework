{
 "cells": [
  {
   "cell_type": "markdown",
   "id": "patent-wedding",
   "metadata": {},
   "source": [
    "# WIP\n",
    "\n",
    "I have now:\n",
    "* Modified how `SCAgent.prepare_for_simulation()` sets the `conflict_point` attribute of `commotions.Simulation`. Previously, this was calculated, now I have hardcoded it to (0, 0) instead, with an assertion checking that the calculated value is very close to (0, 0) - as a verification that the SC scenario has been set up as expected. I did this because while setting up the HIKER scenarios I discovered that a `conflict_point` that got calculated to something very close to but not quite (0, 0) could put the pedestrian at a starting point just past its $D_s$ safety distance to the crossing, such that passing in second was no longer an option. Overall, the way I treat safety distances etc is a little brittle, so it would be nice to have some better solution in general, but for now this fixes this specific problem. This change might of course have an effect on previously run fits, especially the deterministic ones - especially the priority assertion / short-stopping ones? But I don't think so, given what they looked like? (If it didn't seem to the vehicle that the pedestrian could at all pass in second, then the probability of the pedestrian's pass-second behaviour should have been zero, etc?)"
   ]
  }
 ],
 "metadata": {
  "kernelspec": {
   "display_name": "Python 3",
   "language": "python",
   "name": "python3"
  },
  "language_info": {
   "codemirror_mode": {
    "name": "ipython",
    "version": 3
   },
   "file_extension": ".py",
   "mimetype": "text/x-python",
   "name": "python",
   "nbconvert_exporter": "python",
   "pygments_lexer": "ipython3",
   "version": "3.9.2"
  }
 },
 "nbformat": 4,
 "nbformat_minor": 5
}
