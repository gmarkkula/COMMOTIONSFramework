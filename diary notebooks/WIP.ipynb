{
 "cells": [
  {
   "cell_type": "markdown",
   "id": "welcome-malpractice",
   "metadata": {},
   "source": [
    "# WIP\n",
    "\n",
    "I have now:\n",
    "* Modified to disregard the first $\\Delta T$ time interval in `sc_fitting.metric_veh_av_surpl_dec()` as planned in the previous diary entry.\n",
    "* Fixed a bug in how I calculated the \"halfway to CS\" distance for the metrics `sc_fitting.py`; I had forgotten to add the collision distance to the half distance between conflict space border and initial position. This should especially affect the pedestrian scenarios and probably especially the `PedCrossVehYield` scenario (bigger effect the closer the initial position is to the conflict space border).\n",
    "* Introduced simulation stopping criteria for speeding fitting."
   ]
  }
 ],
 "metadata": {
  "kernelspec": {
   "display_name": "Python 3",
   "language": "python",
   "name": "python3"
  },
  "language_info": {
   "codemirror_mode": {
    "name": "ipython",
    "version": 3
   },
   "file_extension": ".py",
   "mimetype": "text/x-python",
   "name": "python",
   "nbconvert_exporter": "python",
   "pygments_lexer": "ipython3",
   "version": "3.9.2"
  }
 },
 "nbformat": 4,
 "nbformat_minor": 5
}
