{
 "cells": [
  {
   "cell_type": "markdown",
   "id": "assured-costs",
   "metadata": {},
   "source": [
    "# 2021-12-12 oAN tests - bringing some imperfections in the model implementation to the fore\n",
    "\n",
    "Results below are for commit: https://github.com/gmarkkula/COMMOTIONSFramework/commit/22fd40db4e6fb1cf827cf930f3c13402cab342df (Rerunning the code below for other commits is not likely/guaranteed to give the same results.)\n",
    "\n",
    "After trying to understand why the `oAN` models exhibitied apparent pedestrian hesitation, I found the following, illustrated by the test run below:\n",
    "* The `oAN` models have a natural tendency to slow down, even when there is no other road user; below `oVAoAN` averages 1.1 m/s between its starting boing and the conflict space, in the scenario where the car is already 3 s past the conflict space. Note that `oVAoSNv` shows an average of 1.3 m/s, i.e., the free speed of the base model. Iam not 100 % sure what causes this deceleration tendency in the `oAN` models. It might have something to do with the saturation effect of the model not being able to reverse, where it may, due to the value noise, first apply rather large decelerations which would have it reverse, and then it has to wait for a while at zero speed, until those predicted decelerations have cleared out of the \"prediction buffer\", before it can see a possibility of increasing speed toward the free speed again? \n",
    "    * So possibly one way of dealing with this would be to make sure that the predicted buffer of accelerations doesn't contain negative accelerations at future time points where the accelerations will in fact be zero because speed will have reached zero already?\n",
    "    * Another way of dealing with it, without modifying those low-level parts of the model, would be to add something like the \"car TTCA = -3 s\" scenario belo to the probabilistic fits, and then measure hesitation against that baseline. That would add a bit of fitting time though.\n",
    "* Another, more concerning matter, is the reason why `oVAoAN` is slowing down further when the car TTCA is at 8 s, and even further when it is at 80 s. (Again, `oVAoSNv` is behaving as one would expect, with a near-negligible slow-down in the 80 s scenario.) The reason the `oVAoAN` model does this seems to be the previously noted imperfection in `sc_scenario_helper.get_access_order_implications()` which doesn't always correctly consider the possibility of just accelerating to free speed to pass first/second. It seems in this particular case what is happening is that the pedestrian first reaches a low speed by chance due to the accumulator noise, and then when it considers speeding up again, if the speed change would bring it above its free speed, such that the \"acceleration to go to free speed\" is negative, the current simplified/imperfect check for the \"just go to free speed\" option for passing first fails, because it only looks for cases where passing first would mean accelerating at a faster rate than the rate estimated for passing just in front of the vehicle (which in the TTCA 80 s case often entails waiting just beyond the exit of the conflict space for quite a while, which is actually quite a severe imperfection). Possibly this is also exacerbated by above-mentioned \"acceleration buffer\" thing.\n",
    "    * What would be needed to fix this is an accurate test of the option of just going to free speed, both for passing first and second. I think this should be done by adding a new function `sc_scenario_helper.get_free_acc_dist_travelled()` which takes initial condition, free acceleration and free acceleration time, and calculates how far the agent will have travelled in a given time (equal to the time until other agent arrives at / leaves the conflict space if testing for passing first / second). Needs to consider the possibility that the given time will elapse either during the time of acceleration to free speed, or after. \n",
    "\n",
    "Clearly the `oAN` tests have put emphasis on some shortcomings in the model implementation, which didn't lead to (as obvious) problems previously. I will think a bit further about it, but overall I believe the best approach is to:\n",
    "* Sort out the \"excessive negative accelerations in buffer\" thing.\n",
    "* Add the more accurate/complete checks for the \"accelerate to free speed\" option in `sc_scenario_helper.get_access_order_implications()`.\n",
    "\n",
    "Doing the above means I should rerun the deterministic fits at some point.\n",
    "\n",
    "As a first check though, I should rerun the tests below, as well as my \"standard unit tests\", to see how much the base model behaviour has been affected."
   ]
  },
  {
   "cell_type": "code",
   "execution_count": 7,
   "id": "indian-observer",
   "metadata": {},
   "outputs": [
    {
     "name": "stdout",
     "output_type": "stream",
     "text": [
      "['C:\\\\GITHUB\\\\COMMOTIONSFramework\\\\diary notebooks', 'C:\\\\WinPython\\\\WPy64-3920\\\\python-3.9.2.amd64\\\\python39.zip', 'C:\\\\WinPython\\\\WPy64-3920\\\\python-3.9.2.amd64\\\\DLLs', 'C:\\\\WinPython\\\\WPy64-3920\\\\python-3.9.2.amd64\\\\lib', 'C:\\\\WinPython\\\\WPy64-3920\\\\python-3.9.2.amd64', '', 'C:\\\\WinPython\\\\WPy64-3920\\\\python-3.9.2.amd64\\\\lib\\\\site-packages', 'C:\\\\WinPython\\\\WPy64-3920\\\\python-3.9.2.amd64\\\\lib\\\\site-packages\\\\win32', 'C:\\\\WinPython\\\\WPy64-3920\\\\python-3.9.2.amd64\\\\lib\\\\site-packages\\\\win32\\\\lib', 'C:\\\\WinPython\\\\WPy64-3920\\\\python-3.9.2.amd64\\\\lib\\\\site-packages\\\\Pythonwin', 'C:\\\\WinPython\\\\WPy64-3920\\\\python-3.9.2.amd64\\\\lib\\\\site-packages\\\\IPython\\\\extensions', 'C:\\\\Users\\\\tragma\\\\.ipython', 'C:\\\\GITHUB\\\\COMMOTIONSFramework', 'C:\\\\GITHUB\\\\COMMOTIONSFramework/SCPaper']\n",
      "***** Model oVAoSNv:\n",
      "\t--- Car initial time to conflict area: -3 s:\n",
      "\t\tAverage ped_av_speed_to_CS: 1.300 m/s\n",
      "\t\tCI: [1.300, 1.300] m/s\n",
      "\t--- Car initial time to conflict area: 8 s:\n",
      "\t\tAverage ped_av_speed_to_CS: 1.011 m/s\n",
      "\t\tCI: [0.963, 1.058] m/s\n",
      "\t--- Car initial time to conflict area: 80 s:\n",
      "\t\tAverage ped_av_speed_to_CS: 1.275 m/s\n",
      "\t\tCI: [1.272, 1.278] m/s\n",
      "***** Model oVAoAN:\n",
      "\t--- Car initial time to conflict area: -3 s:\n",
      "\t\tAverage ped_av_speed_to_CS: 1.115 m/s\n",
      "\t\tCI: [1.066, 1.165] m/s\n",
      "\t--- Car initial time to conflict area: 8 s:\n",
      "\t\tAverage ped_av_speed_to_CS: 0.890 m/s\n",
      "\t\tCI: [0.868, 0.912] m/s\n",
      "\t--- Car initial time to conflict area: 80 s:\n",
      "\t\tAverage ped_av_speed_to_CS: 0.623 m/s\n",
      "\t\tCI: [0.589, 0.658] m/s\n"
     ]
    }
   ],
   "source": [
    "# append root folder of repo to PYTHONPATH (https://stackoverflow.com/questions/714063/importing-modules-from-parent-folder)\n",
    "import sys\n",
    "from pathlib import Path\n",
    "parent_path = str(Path('.').absolute().parent)\n",
    "if not (parent_path in sys.path):\n",
    "    sys.path.append(parent_path)\n",
    "    sys.path.append(parent_path + '/SCPaper')\n",
    "print(sys.path)\n",
    "\n",
    "# imports needed to run the simulations\n",
    "import math\n",
    "import copy\n",
    "import numpy as np\n",
    "import commotions\n",
    "import sc_scenario\n",
    "import sc_scenario_perception\n",
    "from sc_scenario_helper import CtrlType\n",
    "import sc_fitting\n",
    "\n",
    "N_REPS = 100\n",
    "\n",
    "for model in ('oVAoSNv', 'oVAoAN'):\n",
    "    print(f'***** Model {model}:')\n",
    "    assumptions = sc_scenario.get_assumptions_dict_from_string(model)\n",
    "    params = copy.deepcopy(sc_fitting.DEFAULT_PARAMS)\n",
    "    params_k = copy.deepcopy(sc_fitting.get_default_params_k(model))\n",
    "    params.sigma_V = 0.1\n",
    "    params.tau_theta = 0.02\n",
    "    for car_ttca in (-3, 8, 80):\n",
    "        print(f'\\t--- Car initial time to conflict area: {car_ttca} s:')\n",
    "        scenario = sc_fitting.SCPaperScenario('TestScenario', \n",
    "                                        initial_ttcas=(3, car_ttca), \n",
    "                                        veh_const_speed=True,\n",
    "                                        stop_criteria = sc_fitting.IN_CS_STOP,\n",
    "                                        metric_names = ('ped_av_speed_to_CS',),\n",
    "                                        time_step = sc_fitting.PROB_SIM_TIME_STEP,\n",
    "                                        end_time = sc_fitting.PROB_SIM_END_TIME)\n",
    "        vs = np.zeros(N_REPS)\n",
    "        for i in range(N_REPS):\n",
    "            sim = sc_fitting.simulate_scenario(scenario, assumptions, params, params_k)\n",
    "            metrics = sc_fitting.get_metrics_for_scenario(scenario, sim)\n",
    "            vs[i] = metrics['TestScenario_ped_av_speed_to_CS']\n",
    "        mean_v = np.mean(vs)\n",
    "        ci_radius = 1.96 * np.std(vs)/math.sqrt(N_REPS)\n",
    "        print(f'\\t\\tAverage ped_av_speed_to_CS: {mean_v:.3f} m/s\\n'\n",
    "              f'\\t\\tCI: [{mean_v - ci_radius:.3f}, {mean_v + ci_radius:.3f}] m/s')       \n"
   ]
  }
 ],
 "metadata": {
  "kernelspec": {
   "display_name": "Python 3",
   "language": "python",
   "name": "python3"
  },
  "language_info": {
   "codemirror_mode": {
    "name": "ipython",
    "version": 3
   },
   "file_extension": ".py",
   "mimetype": "text/x-python",
   "name": "python",
   "nbconvert_exporter": "python",
   "pygments_lexer": "ipython3",
   "version": "3.9.2"
  }
 },
 "nbformat": 4,
 "nbformat_minor": 5
}
