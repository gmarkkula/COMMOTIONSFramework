{
    "cells": [
        {
            "cell_type": "markdown",
            "source": [
                "# 2021-08-17 Adapting the framework implementation to the general model formulation for SCPaper\r\n",
                "\r\n",
                "* Went over all of the steps in the \"more constrained general formulation\" in the SCPaper README, making sure that the implemenation and notation in `sc_senario.py` is in line with these. Removed some old, extraneous stuff. Tested the following runs, confirming that I am getting back the same results as in the 2021-06-01 diary entry:\r\n",
                "    * Baseline kinematics, baseline model.\r\n",
                "    * Baseline kinematics, baseline model + `oBEv`\r\n",
                "    * Baseline kinematics, baseline model + `oBEo`\r\n",
                "* Implemented `oAI`, and verified:\r\n",
                "    * That I am getting back the same results as in the 2021-06-01 diary entry, for:\r\n",
                "        * Baseline kinematics, baseline model\r\n",
                "        * Baseline kinematics, baseline model + `oBEv` + `oAI` (giving back same results as before for only `oBEv`, since `oAI` was previously implicit)\r\n",
                "    * That when I rerun this last simulation, but now turning `oAI` off, I no longer get the same results as before."
            ],
            "metadata": {}
        },
        {
            "cell_type": "code",
            "execution_count": null,
            "source": [],
            "outputs": [],
            "metadata": {}
        }
    ],
    "metadata": {
        "orig_nbformat": 4,
        "language_info": {
            "name": "python"
        }
    },
    "nbformat": 4,
    "nbformat_minor": 2
}