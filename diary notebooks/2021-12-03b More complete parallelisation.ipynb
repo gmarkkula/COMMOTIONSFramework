{
 "cells": [
  {
   "cell_type": "markdown",
   "id": "veterinary-sunrise",
   "metadata": {},
   "source": [
    "# 2021-12-03b More complete parallelisation\n",
    "\n",
    "Results below are for commit: ### (Rerunning the code below for other commits is not likely/guaranteed to give the same results.)\n",
    "\n",
    "I have now implemented use in `sc_fitting.SCPaperParameterSearch` of the per-parameterisation parallelisation provided by `parameter_search.ParameterSearch`. Below are the results of some testing, where I run exactly the same model fit (`oVAaoVAloBEooBEvoAI` with the smaller grid) first serially (`parallel=False` in the `SCPaperParameterSearch` constructor) and then with parallelisation. The first attempt (`par_v1`) didn't work out - on closer inspection all except the very first parameterisation in the parallel search had the same metrics values as the very last parameterisation of the serial search. This was because I was sending the mutable objects holding the model parameterisations as arguments to the `multiprocessing.Pool.apply_async()` call, and updating these mutable objects between calls. This was based on my understanding that all of the relevant memory from the calling process would be serialised and sent on to the parallelised worker. That turns ot not to have been correct, and since generating the full list of `apply_async()` is much faster than testing a parameterisation, almost all of those calls ended up seeing just the final parameterisation. When instead creating local copies of the parameter objects to use for the `apply_async()` calls, I get back the same results as in the serial search (comare `par_v2` to `ser` below).\n",
    "\n",
    "Also a note on speed: I am indeed seeing what seems to be a 4x speedup of this parallelisation, matching my 4 CPU cores rather than my 8 logical cores; based on for example the answers [here](https://stackoverflow.com/questions/10403201/8-logical-threads-at-4-cores-will-at-a-maximum-run-4-times-faster-in-parallel) this suggests that my code is more CPU-intensive than memory/disk intensive - which makes sense. "
   ]
  },
  {
   "cell_type": "code",
   "execution_count": 1,
   "id": "honey-essay",
   "metadata": {},
   "outputs": [
    {
     "name": "stdout",
     "output_type": "stream",
     "text": [
      "['C:\\\\GITHUB\\\\COMMOTIONSFramework\\\\SCPaper/results\\\\DetFit_oVAaoVAloBEooBEvoAI_0_ser.pkl', 'C:\\\\GITHUB\\\\COMMOTIONSFramework\\\\SCPaper/results\\\\DetFit_oVAaoVAloBEooBEvoAI_1_par_v1.pkl', 'C:\\\\GITHUB\\\\COMMOTIONSFramework\\\\SCPaper/results\\\\DetFit_oVAaoVAloBEooBEvoAI_2_par_v2.pkl']\n",
      "\n",
      "Loading parameter search from file \"C:\\GITHUB\\COMMOTIONSFramework\\SCPaper/results\\DetFit_oVAaoVAloBEooBEvoAI_0_ser.pkl\"...\n",
      "\tDone.\n",
      "Analysing model oVAaoVAloBEooBEvoAI, 768 parameterisations...\n",
      "\tMain criteria:\n",
      "\t\tVehicle asserting priority: Found 0 (0.0 %) parameterisations.\n",
      "\t\tVehicle short-stopping: Found 36 (4.7 %) parameterisations.\n",
      "\t\tPedestrian hesitation in deceleration scenario: Found 0 (0.0 %) parameterisations.\n",
      "\t\tPedestrian starting before vehicle at full stop: Found 768 (100.0 %) parameterisations.\n",
      "\tSecondary criteria:\n",
      "\t\tPedestrian hesitation in constant-speed scenario: Found 0 (0.0 %) parameterisations.\n",
      "\tAll main criteria met: Found 0 (0.0 %) parameterisations.\n",
      "\tMax no of main criteria met was 2, for 36 parameterisations.\n",
      "\t\tOut of these, the max number of secondary criteria met was 0, for 36 parameterisations.\n",
      "\tNaNs in main crit: [0 0 0 0]; sec crit: [0]\n",
      "\n",
      "Loading parameter search from file \"C:\\GITHUB\\COMMOTIONSFramework\\SCPaper/results\\DetFit_oVAaoVAloBEooBEvoAI_1_par_v1.pkl\"...\n",
      "\tDone.\n",
      "Analysing model oVAaoVAloBEooBEvoAI, 768 parameterisations...\n",
      "\tMain criteria:\n",
      "\t\tVehicle asserting priority: Found 0 (0.0 %) parameterisations.\n",
      "\t\tVehicle short-stopping: Found 0 (0.0 %) parameterisations.\n",
      "\t\tPedestrian hesitation in deceleration scenario: Found 0 (0.0 %) parameterisations.\n",
      "\t\tPedestrian starting before vehicle at full stop: Found 768 (100.0 %) parameterisations.\n",
      "\tSecondary criteria:\n",
      "\t\tPedestrian hesitation in constant-speed scenario: Found 0 (0.0 %) parameterisations.\n",
      "\tAll main criteria met: Found 0 (0.0 %) parameterisations.\n",
      "\tMax no of main criteria met was 1, for 768 parameterisations.\n",
      "\t\tOut of these, the max number of secondary criteria met was 0, for 768 parameterisations.\n",
      "\tNaNs in main crit: [0 0 0 0]; sec crit: [0]\n",
      "\n",
      "Loading parameter search from file \"C:\\GITHUB\\COMMOTIONSFramework\\SCPaper/results\\DetFit_oVAaoVAloBEooBEvoAI_2_par_v2.pkl\"...\n",
      "\tDone.\n",
      "Analysing model oVAaoVAloBEooBEvoAI, 768 parameterisations...\n",
      "\tMain criteria:\n",
      "\t\tVehicle asserting priority: Found 0 (0.0 %) parameterisations.\n",
      "\t\tVehicle short-stopping: Found 36 (4.7 %) parameterisations.\n",
      "\t\tPedestrian hesitation in deceleration scenario: Found 0 (0.0 %) parameterisations.\n",
      "\t\tPedestrian starting before vehicle at full stop: Found 768 (100.0 %) parameterisations.\n",
      "\tSecondary criteria:\n",
      "\t\tPedestrian hesitation in constant-speed scenario: Found 0 (0.0 %) parameterisations.\n",
      "\tAll main criteria met: Found 0 (0.0 %) parameterisations.\n",
      "\tMax no of main criteria met was 2, for 36 parameterisations.\n",
      "\t\tOut of these, the max number of secondary criteria met was 0, for 36 parameterisations.\n",
      "\tNaNs in main crit: [0 0 0 0]; sec crit: [0]\n",
      "\n",
      "\n",
      "*** Retained models ***\n"
     ]
    }
   ],
   "source": [
    "%run ../SCPaper/do_2_analyse_deterministic_fits"
   ]
  }
 ],
 "metadata": {
  "kernelspec": {
   "display_name": "Python 3",
   "language": "python",
   "name": "python3"
  },
  "language_info": {
   "codemirror_mode": {
    "name": "ipython",
    "version": 3
   },
   "file_extension": ".py",
   "mimetype": "text/x-python",
   "name": "python",
   "nbconvert_exporter": "python",
   "pygments_lexer": "ipython3",
   "version": "3.9.2"
  }
 },
 "nbformat": 4,
 "nbformat_minor": 5
}
