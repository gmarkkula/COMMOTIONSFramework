{
 "cells": [
  {
   "cell_type": "markdown",
   "id": "soviet-defeat",
   "metadata": {},
   "source": [
    "# WIP Numerical integration for affordance based value calculation\n",
    "\n",
    "I have:\n",
    "* Implemented a new function `sc_scenario_helper.get_access_order_values()` which does numerical integration to calculate the affordance-based values, so far only the kinematics-based terms in the integration. Surprisingly, it already seems to sort of work and gives very similar results to the previous \"approximate analytical\" implementation. Running a simulation takes about twice as much time though...\n",
    "* Introduced a requirement in `SCAgent` that $T_p = \\Delta t$, since that's how I generally do it anyway, and that simplified the implementation of the numerical integration.\n",
    "* Next step is to write some test code `sc_scenario_helper."
   ]
  }
 ],
 "metadata": {
  "kernelspec": {
   "display_name": "Python 3",
   "language": "python",
   "name": "python3"
  },
  "language_info": {
   "codemirror_mode": {
    "name": "ipython",
    "version": 3
   },
   "file_extension": ".py",
   "mimetype": "text/x-python",
   "name": "python",
   "nbconvert_exporter": "python",
   "pygments_lexer": "ipython3",
   "version": "3.9.2"
  }
 },
 "nbformat": 4,
 "nbformat_minor": 5
}
