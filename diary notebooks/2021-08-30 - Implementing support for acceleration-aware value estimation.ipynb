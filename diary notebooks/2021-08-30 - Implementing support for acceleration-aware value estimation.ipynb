{
 "cells": [
  {
   "cell_type": "markdown",
   "id": "whole-helena",
   "metadata": {},
   "source": [
    "# Implementing support for acceleration-aware value estimation\n",
    "\n",
    "Todo:\n",
    "* ~~Remove support for reversing in `SCAgent`, regardless of agent type.~~ \n",
    "* ~~In `sc_scenario_helper.get_access_order_implications()`:~~\n",
    "    * ~~Remove possibility of reversing in order to pass in second.~~\n",
    "    * ~~Any other small adjustments? (I don't think so.)~~ (No changes to baseline scenario so far - but leaving a piece of code here I thought I could remove...)\n",
    "* Reimplement `sc_scenario_helper.get_entry_exit_times()`.\n",
    "* Check the unit tests in `sc_scenario_helper`, and make some new unit tests with accelerated cases...\n",
    "    "
   ]
  }
 ],
 "metadata": {
  "kernelspec": {
   "display_name": "Python 3",
   "language": "python",
   "name": "python3"
  },
  "language_info": {
   "codemirror_mode": {
    "name": "ipython",
    "version": 3
   },
   "file_extension": ".py",
   "mimetype": "text/x-python",
   "name": "python",
   "nbconvert_exporter": "python",
   "pygments_lexer": "ipython3",
   "version": "3.9.2"
  }
 },
 "nbformat": 4,
 "nbformat_minor": 5
}
