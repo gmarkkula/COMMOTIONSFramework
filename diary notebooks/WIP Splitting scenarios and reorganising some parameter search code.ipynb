{
 "cells": [
  {
   "cell_type": "markdown",
   "id": "immediate-daughter",
   "metadata": {},
   "source": [
    "# WIP Splitting scenarios and reorganising some parameter search code\n",
    "\n",
    "I have:\n",
    "* Reworked the scenario formulation in a way that should work better both in general and especially for the upcoming probabilistic fits (studying one phenomenon at a time, rather than in some cases two phenomena per scenario) - see 2021-11-20b notes for details. As noted in 2021-11-20 notes, I am increasing the safety margins to 1 m and 1 s.\n",
    "* Rearranging in `sc_fitting.py` so instead of the class `SCPaperDeterministicOneSidedFitting` I now have a more generic class `SCPaperParameterSearch` which can take an arbitrary dict of scenarios, and the scenarios now also include a dict of metrics to compute for that scenario - so the whole thing is a bit more flexible.\n"
   ]
  }
 ],
 "metadata": {
  "kernelspec": {
   "display_name": "Python 3",
   "language": "python",
   "name": "python3"
  },
  "language_info": {
   "codemirror_mode": {
    "name": "ipython",
    "version": 3
   },
   "file_extension": ".py",
   "mimetype": "text/x-python",
   "name": "python",
   "nbconvert_exporter": "python",
   "pygments_lexer": "ipython3",
   "version": "3.9.2"
  }
 },
 "nbformat": 4,
 "nbformat_minor": 5
}
