{
 "cells": [
  {
   "cell_type": "markdown",
   "id": "united-football",
   "metadata": {},
   "source": [
    "# WIP Adding numerically integrated looming aversion values\n",
    "\n",
    "* Refactoring `sc_scenario_helper.get_access_order_values()` and `SCAgent.get_access_order_values_for_agent_v02()` a bit, since it is no longer enough to just have the predicted state at $t + T_p$, but instead quite a bit more info is needed also on the current state and the actions/behaviours to get from current to predicted state.\n",
    "* Implementing the looming aversion in `sc_scenario_helper.get_access_order_values()`, now based on value rate $g_{free}$ instead of total future predicted value $V_{free}$.\n",
    "* Adding/modifying a number of helper functions, and adding/modifying test code in `sc_scenario_helper.py`.\n"
   ]
  },
  {
   "cell_type": "code",
   "execution_count": 11,
   "id": "numerous-stick",
   "metadata": {},
   "outputs": [
    {
     "name": "stdout",
     "output_type": "stream",
     "text": [
      "585 ns ± 40.7 ns per loop (mean ± std. dev. of 7 runs, 1000000 loops each)\n",
      "4.51 µs ± 180 ns per loop (mean ± std. dev. of 7 runs, 100000 loops each)\n",
      "1.97 µs ± 57.6 ns per loop (mean ± std. dev. of 7 runs, 1000000 loops each)\n",
      "1.61 µs ± 34.6 ns per loop (mean ± std. dev. of 7 runs, 1000000 loops each)\n",
      "5.27 µs ± 77.6 ns per loop (mean ± std. dev. of 7 runs, 100000 loops each)\n",
      "2.65 µs ± 68.1 ns per loop (mean ± std. dev. of 7 runs, 100000 loops each)\n"
     ]
    }
   ],
   "source": [
    "import numpy as np\n",
    "\n",
    "def unsafe_divide(a, b):\n",
    "    return a/b\n",
    "\n",
    "def safe_divide_v1(a, b):\n",
    "    with np.errstate(divide='ignore'):\n",
    "        return a/b\n",
    "\n",
    "def safe_divide_v2(a, b):\n",
    "    b[b == 0] = np.finfo(float).eps\n",
    "    return a/b\n",
    "\n",
    "def safe_divide_v3(a, b):\n",
    "    b[b == 0] = np.nan\n",
    "    return a/b\n",
    "\n",
    "def safe_divide_v4(a, b):\n",
    "    zero_denom = b == 0\n",
    "    nonzero_denom = np.logical_not(zero_denom)\n",
    "    c = np.zeros(len(a))\n",
    "    c[zero_denom] = np.inf * a[zero_denom]\n",
    "    c[nonzero_denom] = a[nonzero_denom] / b[nonzero_denom]\n",
    "    return a/b\n",
    "\n",
    "def safe_divide_v5(a, b):\n",
    "    zero_denom = b == 0\n",
    "    b[zero_denom] = np.nan\n",
    "    c = a/b\n",
    "    c[zero_denom] = np.inf * a[zero_denom]\n",
    "    return c\n",
    "\n",
    "a = np.full(50, 1.)\n",
    "b = np.full(50, 2.)\n",
    "b[10:20] = 0\n",
    "\n",
    "%timeit unsafe_divide(a, b)\n",
    "%timeit safe_divide_v1(a, b)\n",
    "%timeit safe_divide_v2(a, b)\n",
    "%timeit safe_divide_v3(a, b)\n",
    "%timeit safe_divide_v4(a, b)\n",
    "%timeit safe_divide_v5(a, b)"
   ]
  }
 ],
 "metadata": {
  "kernelspec": {
   "display_name": "Python 3",
   "language": "python",
   "name": "python3"
  },
  "language_info": {
   "codemirror_mode": {
    "name": "ipython",
    "version": 3
   },
   "file_extension": ".py",
   "mimetype": "text/x-python",
   "name": "python",
   "nbconvert_exporter": "python",
   "pygments_lexer": "ipython3",
   "version": "3.9.2"
  }
 },
 "nbformat": 4,
 "nbformat_minor": 5
}
