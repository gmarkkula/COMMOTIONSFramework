{
 "cells": [
  {
   "cell_type": "markdown",
   "id": "governing-fraud",
   "metadata": {},
   "source": [
    "# WIP Adding numerically integrated looming aversion values\n",
    "\n",
    "* Refactoring `sc_scenario_helper.get_access_order_values()` a bit.\n",
    "* Modifying/adding test code in `sc_scenario_helper.py`."
   ]
  }
 ],
 "metadata": {
  "kernelspec": {
   "display_name": "Python 3",
   "language": "python",
   "name": "python3"
  },
  "language_info": {
   "codemirror_mode": {
    "name": "ipython",
    "version": 3
   },
   "file_extension": ".py",
   "mimetype": "text/x-python",
   "name": "python",
   "nbconvert_exporter": "python",
   "pygments_lexer": "ipython3",
   "version": "3.9.2"
  }
 },
 "nbformat": 4,
 "nbformat_minor": 5
}
