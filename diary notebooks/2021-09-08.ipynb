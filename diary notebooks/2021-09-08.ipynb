{
 "cells": [
  {
   "cell_type": "markdown",
   "id": "accessory-raising",
   "metadata": {},
   "source": [
    "# 2021-09-08\n",
    "\n",
    "* Adding optional assumption `oVAa`, for acceleration-aware affordance-based value estimates. The only effect it has is in `SCAgent.get_access_order_values_for_agent_v02()`, where it controls whether the call to `sc_scenario_helper.get_access_order_implications()` considers accelerations in the predicted state of the other agent.\n",
    "* As a sanity check, verifying that I get back some previous results:\n",
    "    * With `oVAa` and $T_\\mathrm{O} = 2$ s, $\\sigma_\\mathrm{O} = 0.001$ m, I get seemingly exactly the same results as in the 2021-09-01 simulations for the baseline kinematics, with base model and when turning on first `oBEo` and then instead `oBEv`.\n",
    "    * Without `oVAa`, and with $T_\\mathrm{O} = 0.5$ s, $\\sigma_\\mathrm{O} = 0.01$ m, I get seemingly exactly the same results as in the 2021-08-26  simulations with baseline kinematics, with base model + `oBEo`. (The last simulations of this type before I started adding the acceleration-aware stuff)."
   ]
  }
 ],
 "metadata": {
  "kernelspec": {
   "display_name": "Python 3",
   "language": "python",
   "name": "python3"
  },
  "language_info": {
   "codemirror_mode": {
    "name": "ipython",
    "version": 3
   },
   "file_extension": ".py",
   "mimetype": "text/x-python",
   "name": "python",
   "nbconvert_exporter": "python",
   "pygments_lexer": "ipython3",
   "version": "3.9.2"
  }
 },
 "nbformat": 4,
 "nbformat_minor": 5
}
