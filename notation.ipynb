{
 "cells": [
  {
   "cell_type": "markdown",
   "metadata": {},
   "source": [
    "# Notation and model specs to complement what is in the model scoping doc\n",
    "\n",
    "Value function for a predicted state $\\mathbf{x}'$, reached by action $a$:\n",
    "$V(\\mathbf{x}', a) = -k_g v_g - k_c / \\tau - k_v v^2 - k_a \\Delta v^2$,\n",
    "\n",
    "where $v_g$ is the predicted rate of change of the distance to the goal, $\\tau$  predicted time to collision with the other agent (infinite if no collision course), $v$ is predicted longitudinal speed, all three referring to the state after the prediction interval, and $\\Delta v$ is the change in speed effectuated by action $a$; the rest above are model parameters.\n",
    "\n",
    "To see what code variables relate to what model quantities, see comments on the lines initialising the `self.states` variables in `SCPAgent.prepare_for_simulation()`.\n",
    "\n",
    "Conflict between code and scoping doc:\n",
    "- Code uses a parameter $\\kappa$ in $^O A_b(t)$ update, not present in the model scoping doc\n"
   ]
  },
  {
   "cell_type": "code",
   "execution_count": null,
   "metadata": {},
   "outputs": [],
   "source": []
  }
 ],
 "metadata": {
  "language_info": {
   "codemirror_mode": {
    "name": "ipython",
    "version": 3
   },
   "file_extension": ".py",
   "mimetype": "text/x-python",
   "name": "python",
   "nbconvert_exporter": "python",
   "pygments_lexer": "ipython3",
   "version": 3
  },
  "orig_nbformat": 2
 },
 "nbformat": 4,
 "nbformat_minor": 2
}