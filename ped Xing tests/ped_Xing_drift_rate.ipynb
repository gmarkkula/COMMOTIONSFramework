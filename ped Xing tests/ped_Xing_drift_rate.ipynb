{
 "cells": [
  {
   "cell_type": "markdown",
   "metadata": {},
   "source": [
    "# Further simplified version of the COMMOTIONS model for the pedestrian crossing scenario\n",
    "\n",
    "Assuming that the pedestrian has the same value function as in previous implementations, for a predicted state $\\mathbf{x}_P'(\\mathbf{a})$ from applying action $\\mathbf{a}$:\n",
    "\n",
    "$$\n",
    "V_{\\mathbf{a}} = V(\\mathbf{x}_P'(\\mathbf{a}), \\mathbf{a}) = k_g v - k_{dv} v^2 - k_e \\Delta v^2 - k_c / \\tau\n",
    "$$\n",
    "\n",
    "where $v$ is the predicted longitudinal speed, $\\Delta v$ is the change in speed effectuated by action $\\mathbf{a}$, $\\tau$ is predicted time to collision with the other agent (infinite if no collision course), and the rest above are model parameters.\n",
    "\n",
    "We now consider the simplified situation where a pedestrian has initial state $\\mathbf{x}_{P0} = (y_P = y_{P0}, v_P = 0)$, and is wanting to walk (along the y axis) to cross a road (running along the x axis) on which a vehicle of length $L_V$ is approaching with constant speed $v_{V0}$ and initial distance $x_{V0}$ to the front of the car, such that the car's state over time is $\\mathbf{x}_V(t) = (x_V(t) = x_{V0} - v_{V0} t, v_V(t) = v_{V0})$. The effective collision distance as perceived by the pedestrian is $D_C$, i.e., the pedestrian does not want to be within the perceived effective collision zone $y_P \\in [-D_C, D_C]$ when the car arrives at position $x_V = 0$. (This is a slight simplification of the collision detection in the general COMMOTIONS framework.)\n",
    "\n",
    "![scenario illustration](ped_Xing_scenario.png)\n",
    "\n",
    "Now assume that the pedestrian's only two decision options at any point in time is to either remain standing, $v_P = 0$, or to apply a speed increase $\\Delta v$, achieved by constant acceleration over an action duration $\\Delta T$. Note that this is in line with the general COMMOTIONS framework, but limiting the pedestrian's speed change options to $\\{0, \\Delta v\\}$. Also in line with the COMMOTIONS framework, assume that the pedestrian judges the value of these two decision options by making a prediction $T_p$ into the future under both actions, and then applying the value function above. \n",
    "\n",
    "Now, for a given fixed parameterisation of $(y_{P0}, \\Delta v, \\Delta T, T_p)$, the predicted states under the two actions are easy to define. For the action of remaining waiting:\n",
    "\n",
    "$$\n",
    "\\mathbf{x}_P'(\\mathrm{wait}) = \\mathbf{x}_{P0}\n",
    "$$\n",
    "\n",
    "And for the action of beginning to cross:\n",
    "\n",
    "$$\n",
    "\\begin{align}\n",
    "    \\mathbf{x}'_P(\\mathrm{cross})   & \\equiv (y_{P}'(\\mathrm{cross}), v_{P}'(\\mathrm{cross}))\\\\\n",
    "                                    & = (y_{P_0} + \\Delta v \\Delta T / 2 + \\Delta v (T_p - \\Delta T), \\Delta v) \\\\\n",
    "                                    & = (y_{P0} + \\Delta v (T_p - \\Delta T / 2), \\Delta v)\n",
    "\\end{align}\n",
    "$$\n",
    "\n",
    "Note that this expression is valid as long as $T_p \\geq \\Delta T$.\n",
    "\n",
    "It does not seem limiting to fix the parameters $(y_{P0}, \\Delta v, \\Delta T, T_p)$, for example as in the following code snippet, which also implements the predictions mentioned above.\n",
    "\n",
    "\n",
    "\n",
    "\n"
   ]
  },
  {
   "cell_type": "code",
   "execution_count": 4,
   "metadata": {},
   "outputs": [
    {
     "name": "stdout",
     "output_type": "stream",
     "text": [
      "Predicted pedestrian state (y position, speed) a time T_p = 0.5 s into the future if waiting:\n",
      "(-2.5, 0)\n",
      "Predicted pedestrian state (y position, speed) a time T_p = 0.5 s into the future if beginning to cross:\n",
      "(-2.175, 1.3)\n"
     ]
    }
   ],
   "source": [
    "# function to get the predicted pedestrian state if beginning to cross\n",
    "def get_pred_crossing_state(initial_ped_pos, ped_walking_speed, ped_pred_time, ped_action_duration):\n",
    "    pred_ped_pos = initial_ped_pos + ped_walking_speed * (ped_pred_time - ped_action_duration/2)\n",
    "    return (pred_ped_pos, ped_walking_speed)\n",
    "\n",
    "# setting some constants regarding the pedestrian\n",
    "INITIAL_PED_POS = -2.5 # m; y_{P0}\n",
    "WALKING_SPEED = 1.3 # m/s; \\Delta v\n",
    "PRED_TIME = 0.5 # s; T_p\n",
    "ACTION_DURATION = 0.5 # s; \\Delta T\n",
    "\n",
    "# get the predicted pedestrian state if waiting\n",
    "PRED_STATE_WAITING = (INITIAL_PED_POS, 0) # x_P'(wait)\n",
    "print(\"Predicted pedestrian state (y position, speed) a time T_p = %.1f s into the future if waiting:\" % PRED_TIME)\n",
    "print(PRED_STATE_WAITING)\n",
    "\n",
    "# get the predicting pedestrian state if beginning to cross\n",
    "PRED_STATE_CROSSING = get_pred_crossing_state(INITIAL_PED_POS, WALKING_SPEED, PRED_TIME, ACTION_DURATION)\n",
    "print(\"Predicted pedestrian state (y position, speed) a time T_p = %.1f s into the future if beginning to cross:\" % PRED_TIME)\n",
    "print(PRED_STATE_CROSSING)"
   ]
  },
  {
   "cell_type": "markdown",
   "metadata": {},
   "source": [
    "Now based on the above it is clear that the value of waiting will always be:\n",
    "\n",
    "$$\n",
    "V_{\\mathrm{wait}} = 0\n",
    "$$\n",
    "\n",
    "and the value of beginning to cross will be:\n",
    "\n",
    "$$\n",
    "\\begin{align}\n",
    "    V_{\\mathrm{cross}}(t)  & = k_g \\Delta v - k_{dv} v^2 - k_e \\Delta v^2  - k_c / \\tau(t)\\\\\n",
    "                        & = k_g \\Delta v - (k_{dv} + k_e) \\Delta v^2  - k_c / \\tau(t)\n",
    "\\end{align}\n",
    "$$\n",
    "\n",
    "where \n",
    "\n",
    "$$\n",
    "\\tau(t) = \\left\\{\n",
    "    \\begin{array}{lll}\n",
    "        \\infty & \\mbox{if} & TTA'(t) \\geq T_C \\\\\n",
    "        TTA'(t) & \\mbox{if} & 0 \\leq TTA'(t) < T_C \\\\\n",
    "        0 & \\mbox{if} & -T_L \\leq TTA'(t) < 0 \\\\\n",
    "        \\infty & \\mbox{if} & TTA'(t) < -T_L\n",
    "    \\end{array} \n",
    "    \\right.\n",
    "$$\n",
    "\n",
    "where in turn $TTA'(t)$ is the predicted time to arrival of the car:\n",
    "\n",
    "$$\n",
    "TTA'(t) = \\frac{x_{V0} - v_{V0} \\cdot (t + T_p)}{v_{V0}} \n",
    "$$\n",
    "\n",
    "and $T_C$ is the predicted time left for the pedestrian to reach the other side of the perceived effective collision zone $y_P \\in [-D_C, D_C]$:\n",
    "\n",
    "$$\n",
    "T_C = \\frac{D_C - y_{P}'(\\mathrm{cross})}{v_{P}'(\\mathrm{cross})}\n",
    "$$\n",
    "\n",
    "and $T_L = L_V / v_{V0}$ is the time needed for the length $L_V$ of the car to pass the pedestrian."
   ]
  },
  {
   "cell_type": "code",
   "execution_count": 5,
   "metadata": {},
   "outputs": [
    {
     "name": "stdout",
     "output_type": "stream",
     "text": [
      "If beginning to cross, the predicted time until exiting the collision zone is 3.21 s after the prediction interval T_p.\n"
     ]
    }
   ],
   "source": [
    "\n",
    "# function for getting the time left until reaching the other side of the collision zone from a predicted pedestrian state\n",
    "def get_pred_crossing_time_to_safety(pred_ped_state_crossing, ped_collision_dist):\n",
    "    pred_pos = pred_ped_state_crossing[0]\n",
    "    pred_speed = pred_ped_state_crossing[1]\n",
    "    pred_time_to_safety = (ped_collision_dist - pred_pos) / pred_speed # T_C\n",
    "    return pred_time_to_safety\n",
    "\n",
    "# parameter defining the radius of the collision zone\n",
    "COLLISION_DIST = 2 # m; D_C\n",
    "\n",
    "# get the predicted remaining time to cross the road, given the parameter values set above in this notebook\n",
    "PRED_TIME_TO_SAFETY = get_pred_crossing_time_to_safety(PRED_STATE_CROSSING, COLLISION_DIST)\n",
    "print(\"If beginning to cross, the predicted time until exiting the collision zone is %.2f s after the prediction interval T_p.\" % PRED_TIME_TO_SAFETY)"
   ]
  },
  {
   "cell_type": "markdown",
   "metadata": {},
   "source": [
    "So now, for a given scenario defined by the initial car state $\\mathbf{x}_{V0} = (x_{V0}, v_{V0})$ and for a given set of gains $k_{*}$ for the value function, we can calculate $V_{\\mathrm{cross}}(t)$ for arbitrary $t$. The function below does that, calling the other function we defined above."
   ]
  },
  {
   "cell_type": "code",
   "execution_count": 6,
   "metadata": {},
   "outputs": [],
   "source": [
    "import math\n",
    "import numpy as np\n",
    "\n",
    "def get_pred_veh_ttas(initial_veh_pos, veh_speed, ped_pred_time, time_values):\n",
    "    pred_veh_TTAs = (initial_veh_pos - veh_speed * (time_values + ped_pred_time)) / veh_speed\n",
    "    return pred_veh_TTAs\n",
    "\n",
    "def get_values_of_crossing(initial_ped_pos, ped_walking_speed, ped_pred_time, ped_action_duration, \\\n",
    "    ped_collision_dist, ped_value_fcn_k, initial_veh_pos, veh_speed, veh_length, time_values):\n",
    "    # get the (time-independent) predicted pedestrian state x_p'(cross) if beginning to cross\n",
    "    pred_ped_state_crossing = get_pred_crossing_state(initial_ped_pos, ped_walking_speed, ped_pred_time, ped_action_duration)\n",
    "    # get the (time-independent) predicted time left to crossing safely if beginning to cross\n",
    "    pred_time_to_safety = get_pred_crossing_time_to_safety(pred_ped_state_crossing, ped_collision_dist)\n",
    "    # get predicted vehicle TTAs, and corresponding taus, as a function of time in the scenario\n",
    "    pred_veh_TTAs = get_pred_veh_ttas(initial_veh_pos, veh_speed, ped_pred_time, time_values)\n",
    "    veh_passing_time = veh_length / veh_speed\n",
    "    taus = pred_veh_TTAs\n",
    "    taus[np.nonzero(pred_veh_TTAs > pred_time_to_safety)] = math.inf\n",
    "    taus[np.nonzero(np.logical_and(pred_veh_TTAs < 0, pred_veh_TTAs >= -veh_passing_time))] = 0\n",
    "    taus[np.nonzero(pred_veh_TTAs < -veh_passing_time)] = math.inf\n",
    "    # calculate the value of beginning to cross, as a function of time in the scenario\n",
    "    # - time-independent terms\n",
    "    const_value_of_walking = ped_value_fcn_k._g * ped_walking_speed \\\n",
    "        - (ped_value_fcn_k._dv + ped_value_fcn_k._e) * ped_walking_speed ** 2\n",
    "    # - time-dependent (collision course related) term\n",
    "    collision_course_values = - ped_value_fcn_k._c / taus\n",
    "    # - get the total value\n",
    "    values = const_value_of_walking + collision_course_values\n",
    "    return values\n"
   ]
  },
  {
   "cell_type": "markdown",
   "metadata": {},
   "source": [
    "Below an example scenario, where we have fixed $k_{dv}$ to get the $\\Delta v$ as the free flow speed arising from the value function, and $k_e = 0$, i.e., neglecting speed change effort, essentially leaving $k_c$ as the only free model parameter so far."
   ]
  },
  {
   "cell_type": "code",
   "execution_count": 7,
   "metadata": {},
   "outputs": [
    {
     "name": "stderr",
     "output_type": "stream",
     "text": [
      "C:\\WinPython\\WPy64-3760\\python-3.7.6.amd64\\lib\\site-packages\\ipykernel_launcher.py:26: RuntimeWarning: divide by zero encountered in true_divide\n"
     ]
    },
    {
     "data": {
      "image/png": "[encoded data removed]",
      "text/plain": [
       "<Figure size 432x288 with 2 Axes>"
      ]
     },
     "metadata": {
      "needs_background": "light"
     },
     "output_type": "display_data"
    }
   ],
   "source": [
    "import commotions\n",
    "import matplotlib.pyplot as plt\n",
    "\n",
    "# scenario definition\n",
    "INITIAL_VEH_POS = 45 # m\n",
    "VEH_SPEED = 10 # m/s\n",
    "VEH_LENGTH = 4.5 # m\n",
    "TIME_STEP = 0.1 # s\n",
    "END_TIME = INITIAL_VEH_POS / VEH_SPEED + 3\n",
    "TIME_STAMPS = np.arange(0, END_TIME, TIME_STEP)\n",
    "N_TIME_STEPS = len(TIME_STAMPS)\n",
    "\n",
    "# value function gains\n",
    "VALUE_FCN_k = commotions.Parameters()\n",
    "VALUE_FCN_k._g = 1 \n",
    "VALUE_FCN_k._dv = VALUE_FCN_k._g / (2 * WALKING_SPEED) # makes WALKING_SPEED the free flow speed for the pedestrian\n",
    "VALUE_FCN_k._e = 0 \n",
    "VALUE_FCN_k._c = 1 # free parameter\n",
    "\n",
    "# get the values for this scenario\n",
    "crossing_values = get_values_of_crossing(initial_ped_pos=INITIAL_PED_POS, ped_walking_speed=WALKING_SPEED, \\\n",
    "    ped_pred_time=PRED_TIME, ped_action_duration=ACTION_DURATION, ped_collision_dist=COLLISION_DIST, \\\n",
    "    ped_value_fcn_k=VALUE_FCN_k, initial_veh_pos=INITIAL_VEH_POS, veh_speed=VEH_SPEED, veh_length = VEH_LENGTH, \\\n",
    "    time_values=TIME_STAMPS)\n",
    "\n",
    "# plot\n",
    "plt.subplot(2, 1, 1)\n",
    "plt.plot(TIME_STAMPS, get_pred_veh_ttas(INITIAL_VEH_POS, VEH_SPEED, PRED_TIME, TIME_STAMPS))\n",
    "plt.ylabel(\"TTA'\")\n",
    "plt.subplot(2, 1, 2)\n",
    "plt.plot(TIME_STAMPS, crossing_values)\n",
    "plt.ylabel(\"$V_{cross}$\")\n",
    "plt.show()"
   ]
  },
  {
   "cell_type": "markdown",
   "metadata": {},
   "source": [
    "To get a rate of evidence accumulation (drift rate) from this value estimate, we take the low-pass filter approach described in the model scoping document (Eq. (8) in the 2020-11-25 version):\n",
    "\n",
    "$$\n",
    "T \\frac{d \\Delta \\hat{V}_{\\mathrm{cross}}(t)}{dt} = \\Delta V_{\\mathrm{cross}}(t) - \\Delta \\hat{V}_{\\mathrm{cross}}(t)\n",
    "$$\n",
    "\n",
    "Here, $\\Delta \\hat{V}_{\\mathrm{cross}}(t)$ is the accumulated evidence, but let's simplify notation a bit by defining $\\xi(t) \\equiv \\Delta \\hat{V}_{\\mathrm{cross}}(t)$, and also use that\n",
    "\n",
    "$$\n",
    "\\begin{align}\n",
    "    \\Delta V_{\\mathrm{cross}}(t) & \\equiv V_{\\mathrm{cross}}(t) - V_{\\mathrm{wait}}(t) \\\\\n",
    "                                & = \\{ V_{\\mathrm{wait}}(t) = 0 \\} \\\\\n",
    "                                & = V_{\\mathrm{cross}}(t)\n",
    "\\end{align}\n",
    "$$\n",
    "\n",
    "such that we get:\n",
    "\n",
    "$$\n",
    "T \\frac{d \\xi}{dt} = V_{\\mathrm{cross}}(t) - \\xi(t)\n",
    "$$\n",
    "$$\n",
    "\\frac{d \\xi}{dt} = \\frac{1}{T} \\left( V_{\\mathrm{cross}}(t) - \\xi(t) \\right)\n",
    "$$\n",
    "$$\n",
    "d \\xi = \\frac{1}{T} \\left( V_{\\mathrm{cross}}(t) - \\xi(t) \\right) dt\n",
    "$$\n",
    "\n",
    "Generalising in a similar way as in Eq. (12) in the scoping doc (v 2020-11-25):\n",
    "\n",
    "$$\n",
    "d \\xi = \\left( \\beta V_{\\mathrm{cross}}(t) - \\gamma \\xi(t) \\right) dt\n",
    "$$\n",
    "\n",
    "where setting $\\beta = \\gamma = 1/T$ yields the low-pass filter version above, whereas with $\\beta = 1, \\gamma = 0$ we get a simpler, direct value accumulation scheme:\n",
    "\n",
    "$$\n",
    "d \\xi = V_{\\mathrm{cross}}(t) dt\n",
    "$$\n",
    "\n",
    "\n",
    "## Some different evidence accumulation formulations\n",
    "\n",
    "We can now run trials with evidence accumulation, using any of a number of different formulations, which are now formulated similarly to the Zgonnikov et al (2020) model, using the $d \\xi = ...$ drift rate formulation, such that it should presumably be possible to use any of these with PyDDM or similar.\n",
    "\n",
    "### Direct value accumulation \n",
    "\n",
    "Rirst testing the direct value accumulation formulation ($\\beta = 1, \\gamma = 0$), for which the drift rate $d \\xi = V_{\\mathrm{cross}}(t) dt$, and introducing a decision threshold $\\xi_{th}$ for deciding to cross:"
   ]
  },
  {
   "cell_type": "code",
   "execution_count": 8,
   "metadata": {},
   "outputs": [
    {
     "data": {
      "image/png": "[encoded data removed]",
      "text/plain": [
       "<Figure size 432x288 with 3 Axes>"
      ]
     },
     "metadata": {
      "needs_background": "light"
     },
     "output_type": "display_data"
    }
   ],
   "source": [
    "DECISION_THRESHOLD = 0.4 # free parameter xi_th\n",
    "\n",
    "drift_rates = crossing_values\n",
    "evidence_deltas = drift_rates * TIME_STEP\n",
    "evidence = np.cumsum(evidence_deltas)\n",
    "\n",
    "def get_crossing_onset(time_stamps, evidence, decision_threshold):\n",
    "    above_thresh_samples = np.argwhere(evidence >= decision_threshold)\n",
    "    if len(above_thresh_samples) > 0:\n",
    "        crossing_sample = above_thresh_samples[0]\n",
    "        crossing_time = time_stamps[crossing_sample]\n",
    "    else:\n",
    "        crossing_sample = math.nan\n",
    "        crossing_time = math.nan\n",
    "    return (crossing_sample, crossing_time)\n",
    "\n",
    "crossing_sample, crossing_time = get_crossing_onset(TIME_STAMPS, evidence, DECISION_THRESHOLD)\n",
    "\n",
    "# plot\n",
    "plt.subplot(3, 1, 1)\n",
    "plt.plot(TIME_STAMPS, get_pred_veh_ttas(INITIAL_VEH_POS, VEH_SPEED, PRED_TIME, TIME_STAMPS))\n",
    "plt.ylabel(\"TTA'\")\n",
    "plt.subplot(3, 1, 2)\n",
    "plt.xlim((0, END_TIME))\n",
    "plt.plot(TIME_STAMPS, crossing_values)\n",
    "plt.ylabel(\"$V_{cross}$\")\n",
    "plt.xlim((0, END_TIME))\n",
    "plt.subplot(3, 1, 3)\n",
    "plt.plot(TIME_STAMPS, evidence)\n",
    "if not math.isnan(crossing_time):\n",
    "    plt.plot(TIME_STAMPS[crossing_sample], evidence[crossing_sample], 'bo')\n",
    "plt.ylabel(\"$\\\\xi$\")\n",
    "plt.xlim((0, END_TIME))\n",
    "plt.show()\n"
   ]
  },
  {
   "cell_type": "markdown",
   "metadata": {},
   "source": [
    "This type of scheme could be sufficient if we just want to model frequency of crossing before the car, and the timing of these crossings, but the discontinuity in $V_{\\mathrm{cross}}(t)$ means that we can't explicitly model the crossings happening after the car has passed (i.e., in the cases when the decision threshold isn't reached before the car arrives at the pedestria). However, if we want to compare only to the Zgonnikov et al (2020) model (especially the one without collapsing bounds), this type of model could be the way to go. \n",
    "\n",
    "### Direct accumulation of squashed value\n",
    "\n",
    "One way to deal with the discontinuity in $V_{\\mathrm{cross}}(t)$ is to include the squashing sigmoidal function $f$ introduced in Eq. (13) of the model scoping doc (same version as before), such that we can rewrite the drift rates:\n",
    "\n",
    "$$\n",
    "d \\xi = \\frac{1}{T} \\left( f[V_{\\mathrm{cross}}(t)] - \\xi(t) \\right) dt\n",
    "$$\n",
    "\n",
    "or in the generalised form:\n",
    "\n",
    "$$\n",
    "d \\xi = \\left( \\beta \\cdot f[V_{\\mathrm{cross}}(t)] - \\gamma \\xi(t) \\right) dt\n",
    "$$\n",
    "\n",
    "Which in the direct value accumulation scheme ($\\beta = 1, \\gamma = 0$) becomes:\n",
    "\n",
    "$$\n",
    "d \\xi = f[V_{\\mathrm{cross}}(t)] dt\n",
    "$$\n",
    "\n",
    "As sigmoid we could for example use:\n",
    "\n",
    "$$\n",
    "f(V) = \\tanh \\frac{V}{V_0}\n",
    "$$\n",
    "\n",
    "with $V_0$ a free parameter determining the scale of the activation function.\n"
   ]
  },
  {
   "cell_type": "code",
   "execution_count": 9,
   "metadata": {},
   "outputs": [
    {
     "data": {
      "image/png": "[encoded data removed]",
      "text/plain": [
       "<Figure size 432x288 with 4 Axes>"
      ]
     },
     "metadata": {
      "needs_background": "light"
     },
     "output_type": "display_data"
    }
   ],
   "source": [
    "def tanh_sigmoid(x, V0):\n",
    "    return np.tanh(x / V0)\n",
    "\n",
    "VALUE_SIGMOID_SCALE = 2 # free parameter V_0\n",
    "DECISION_THRESHOLD = 0.2 # free parameter xi_th (now in units of squashed value)\n",
    "\n",
    "squashed_crossing_values = tanh_sigmoid(crossing_values, VALUE_SIGMOID_SCALE)\n",
    "\n",
    "drift_rates = squashed_crossing_values\n",
    "evidence_deltas = drift_rates * TIME_STEP\n",
    "evidence = np.cumsum(evidence_deltas)\n",
    "crossing_sample, crossing_time = get_crossing_onset(TIME_STAMPS, evidence, DECISION_THRESHOLD)\n",
    "\n",
    "# plot\n",
    "plt.subplot(4, 1, 1)\n",
    "plt.plot(TIME_STAMPS, get_pred_veh_ttas(INITIAL_VEH_POS, VEH_SPEED, PRED_TIME, TIME_STAMPS))\n",
    "plt.ylabel(\"TTA'\")\n",
    "plt.xlim((0, END_TIME))\n",
    "plt.subplot(4, 1, 2)\n",
    "plt.plot(TIME_STAMPS, crossing_values)\n",
    "plt.ylabel(\"$V_{cross}$\")\n",
    "plt.xlim((0, END_TIME))\n",
    "plt.subplot(4, 1, 3)\n",
    "plt.plot(TIME_STAMPS, squashed_crossing_values)\n",
    "plt.ylabel(\"$f[V_{cross}}]$\")\n",
    "plt.xlim((0, END_TIME))\n",
    "plt.subplot(4, 1, 4)\n",
    "plt.plot(TIME_STAMPS, evidence)\n",
    "if not math.isnan(crossing_time):\n",
    "    plt.plot(TIME_STAMPS[crossing_sample], evidence[crossing_sample], 'bo')\n",
    "plt.ylabel(\"$\\\\xi$\")\n",
    "plt.xlim((0, END_TIME))\n",
    "plt.show()"
   ]
  },
  {
   "cell_type": "markdown",
   "metadata": {},
   "source": [
    "The evidence accumulation can now continue also after the car has passed, but we see that the lack of \"forgetting\" in the evidence accumulation becomes problematic: While the car is passing, a large negative $\\xi$ accumulates, such that it takes a long time to climb back toward the positive decision threshold for crossing.\n",
    "\n",
    "### Low-pass filter accumulation of squashed value\n",
    "\n",
    "To include \"forgetting\", we can return to the low-pass filter formulation of the evidence accumulation $(\\beta = \\gamma = 1/T)$, i.e.,\n",
    "\n",
    "$$\n",
    "d \\xi = \\frac{1}{T} \\left( f[V_{\\mathrm{cross}}(t)] - \\xi(t) \\right) dt\n",
    "$$"
   ]
  },
  {
   "cell_type": "code",
   "execution_count": 10,
   "metadata": {},
   "outputs": [
    {
     "data": {
      "image/png": "[encoded data removed]",
      "text/plain": [
       "<Figure size 432x288 with 4 Axes>"
      ]
     },
     "metadata": {
      "needs_background": "light"
     },
     "output_type": "display_data"
    }
   ],
   "source": [
    "\n",
    "ACCUM_TIME_SCALE = 0.5 # s; free parameter T\n",
    "DECISION_THRESHOLD = 0.25 # xi_th - new value again, since value estimate is now low-pass filtered\n",
    "\n",
    "# now need to run the trial as a for loop, since there is feedback\n",
    "def get_lpfilt_squashed_value_evidence(n_time_steps, time_step, values, value_sigmoid_scale, accum_time_scale):\n",
    "    evidence = np.full(n_time_steps, math.nan)\n",
    "    evidence[0] = 0\n",
    "    squashed_values = tanh_sigmoid(values, value_sigmoid_scale)\n",
    "    for i_time_step in range(1, n_time_steps):\n",
    "        evidence_rate = (squashed_values[i_time_step] - evidence[i_time_step-1]) / accum_time_scale\n",
    "        evidence[i_time_step] = evidence[i_time_step-1] + evidence_rate * time_step\n",
    "    return evidence\n",
    "\n",
    "evidence = get_lpfilt_squashed_value_evidence(N_TIME_STEPS, TIME_STEP, crossing_values, \\\n",
    "    VALUE_SIGMOID_SCALE, ACCUM_TIME_SCALE)\n",
    "crossing_sample, crossing_time = get_crossing_onset(TIME_STAMPS, evidence, DECISION_THRESHOLD)\n",
    "\n",
    "# plot\n",
    "plt.subplot(4, 1, 1)\n",
    "plt.plot(TIME_STAMPS, get_pred_veh_ttas(INITIAL_VEH_POS, VEH_SPEED, PRED_TIME, TIME_STAMPS))\n",
    "plt.ylabel(\"TTA'\")\n",
    "plt.xlim((0, END_TIME))\n",
    "plt.subplot(4, 1, 2)\n",
    "plt.plot(TIME_STAMPS, crossing_values)\n",
    "plt.ylabel(\"$V_{cross}$\")\n",
    "plt.xlim((0, END_TIME))\n",
    "plt.subplot(4, 1, 3)\n",
    "plt.plot(TIME_STAMPS, squashed_crossing_values)\n",
    "plt.ylabel(\"$f[V_{cross}]$\")\n",
    "plt.xlim((0, END_TIME))\n",
    "plt.subplot(4, 1, 4)\n",
    "plt.plot(TIME_STAMPS, evidence)\n",
    "if not math.isnan(crossing_time):\n",
    "    plt.plot(TIME_STAMPS[crossing_sample], evidence[crossing_sample], 'bo')\n",
    "plt.ylabel(\"$\\\\xi$\")\n",
    "plt.xlim((0, END_TIME))\n",
    "plt.show()"
   ]
  },
  {
   "cell_type": "markdown",
   "metadata": {},
   "source": [
    "I think this could be a type of model which might work rather well for modelling crossing both before and after the car has passed. For clarity, below I am running again what was run just above, but collecting the code run in steps throughout this notebook into a single code block, and highlighting what I have here considered free parameters:"
   ]
  },
  {
   "cell_type": "code",
   "execution_count": 11,
   "metadata": {},
   "outputs": [
    {
     "name": "stderr",
     "output_type": "stream",
     "text": [
      "C:\\WinPython\\WPy64-3760\\python-3.7.6.amd64\\lib\\site-packages\\ipykernel_launcher.py:26: RuntimeWarning: divide by zero encountered in true_divide\n"
     ]
    },
    {
     "data": {
      "image/png": "[encoded data removed]",
      "text/plain": [
       "<Figure size 432x288 with 4 Axes>"
      ]
     },
     "metadata": {
      "needs_background": "light"
     },
     "output_type": "display_data"
    }
   ],
   "source": [
    "# free parameters\n",
    "VALUE_FCN_k._c = 1 # k_c\n",
    "VALUE_SIGMOID_SCALE = 2 # V_0\n",
    "DECISION_THRESHOLD = 0.25 # xi_th\n",
    "ACCUM_TIME_SCALE = 0.5 # s; T\n",
    "\n",
    "# get values for crossing as a function of time\n",
    "crossing_values = get_values_of_crossing(initial_ped_pos=INITIAL_PED_POS, ped_walking_speed=WALKING_SPEED, \\\n",
    "    ped_pred_time=PRED_TIME, ped_action_duration=ACTION_DURATION, ped_collision_dist=COLLISION_DIST, \\\n",
    "    ped_value_fcn_k=VALUE_FCN_k, initial_veh_pos=INITIAL_VEH_POS, veh_speed=VEH_SPEED, veh_length = VEH_LENGTH, \\\n",
    "    time_values=TIME_STAMPS)\n",
    "\n",
    "# simulate the trial with low-pass filtered squashed value accumulation\n",
    "evidence = get_lpfilt_squashed_value_evidence(N_TIME_STEPS, TIME_STEP, crossing_values, \\\n",
    "    VALUE_SIGMOID_SCALE, ACCUM_TIME_SCALE)\n",
    "crossing_sample, crossing_time = get_crossing_onset(TIME_STAMPS, evidence, DECISION_THRESHOLD)\n",
    "\n",
    "# plot\n",
    "plt.subplot(4, 1, 1)\n",
    "plt.plot(TIME_STAMPS, get_pred_veh_ttas(INITIAL_VEH_POS, VEH_SPEED, PRED_TIME, TIME_STAMPS))\n",
    "plt.ylabel(\"TTA'\")\n",
    "plt.xlim((0, END_TIME))\n",
    "plt.subplot(4, 1, 2)\n",
    "plt.plot(TIME_STAMPS, crossing_values)\n",
    "plt.ylabel(\"$V_{cross}$\")\n",
    "plt.xlim((0, END_TIME))\n",
    "plt.subplot(4, 1, 3)\n",
    "plt.plot(TIME_STAMPS, squashed_crossing_values)\n",
    "plt.ylabel(\"$f[V_{cross}]$\")\n",
    "plt.xlim((0, END_TIME))\n",
    "plt.subplot(4, 1, 4)\n",
    "plt.plot(TIME_STAMPS, evidence)\n",
    "if not math.isnan(crossing_time):\n",
    "    plt.plot(TIME_STAMPS[crossing_sample], evidence[crossing_sample], 'bo')\n",
    "plt.xlabel(\"t (s)\")\n",
    "plt.ylabel(\"$\\\\xi$\")\n",
    "plt.xlim((0, END_TIME))\n",
    "plt.show()"
   ]
  },
  {
   "cell_type": "markdown",
   "metadata": {},
   "source": [
    "### Low-pass filter accumulation of squashed noisy value\n",
    "\n",
    "We can now introduce noise in the evidence accumulation. I think it makes most sense to do so by making the value estimate noisy (i.e., before squashing).  "
   ]
  },
  {
   "cell_type": "code",
   "execution_count": 13,
   "metadata": {},
   "outputs": [
    {
     "data": {
      "image/png": "[encoded data removed]",
      "text/plain": [
       "<Figure size 432x288 with 2 Axes>"
      ]
     },
     "metadata": {
      "needs_background": "light"
     },
     "output_type": "display_data"
    }
   ],
   "source": [
    "\n",
    "VALUE_NOISE_STDDEV = 1.5\n",
    "\n",
    "N_TRIALS = 500\n",
    "crossing_times = np.full(N_TRIALS, math.nan)\n",
    "plt.subplot(2, 1, 1)\n",
    "for i_trial in range(N_TRIALS):\n",
    "    # get noise\n",
    "    trial_value_noises = VALUE_NOISE_STDDEV * np.random.randn(N_TIME_STEPS) * math.sqrt(TIME_STEP)\n",
    "    # add noise to values for crossing\n",
    "    trial_noisy_values = crossing_values + trial_value_noises\n",
    "    # simulate the trial, with noisy crossing values\n",
    "    trial_evidence = get_lpfilt_squashed_value_evidence(N_TIME_STEPS, TIME_STEP, trial_noisy_values, \\\n",
    "        VALUE_SIGMOID_SCALE, ACCUM_TIME_SCALE)\n",
    "    crossing_sample, crossing_time = get_crossing_onset(TIME_STAMPS, trial_evidence, DECISION_THRESHOLD)\n",
    "    # plot trial\n",
    "    plt.plot(TIME_STAMPS, trial_evidence, 'k') \n",
    "    if not math.isnan(crossing_time):\n",
    "        plt.plot(TIME_STAMPS[crossing_sample], trial_evidence[crossing_sample], 'bo')\n",
    "    # save the crossing time obtained for this trial\n",
    "    crossing_times[i_trial] = crossing_time\n",
    "\n",
    "# plot histogram of crossing times\n",
    "plt.subplot(2, 1, 2)\n",
    "plt.hist(crossing_times, np.arange(0, END_TIME, 0.25))\n",
    "plt.xlabel(\"t(s)\")\n",
    "plt.show()\n"
   ]
  },
  {
   "cell_type": "markdown",
   "metadata": {},
   "source": [
    "# Exploring modifications towards v0.2 of the framework\n",
    "\n",
    "To extend the framework to also consider the impact of potential time losses on the value of actions and resulting behaviour, we can generalise the value formulation further, from: \n",
    "$$\n",
    "V_{\\mathbf{a}} = V[\\mathbf{x}'(\\mathbf{a}), \\mathbf{a}] \n",
    "$$\n",
    "as above (but now using $\\mathbf{x}$ to denote state for a general agent, rather than $\\mathbf{x}_P$ for the pedestrian), to:\n",
    "$$\n",
    "V_{\\mathbf{a}} = \\max_{\\Omega} V[\\mathbf{x}'(\\mathbf{a}), \\mathbf{a}, \\Omega] \n",
    "$$\n",
    "where $\\Omega$ is now the *interaction outcome*, in terms of who passes the conflict space first, $\\Omega_1$ and $\\Omega_2$ denoting the agent itself passing first and second, respectively. In other words, we are now suggesting that the value of a predicted state may (sometimes) depend on what the ultimate interaction outcome is. Let's divide this outcome-dependent value estimate into two parts:\n",
    "$$\n",
    "V[\\mathbf{x}'(\\mathbf{a}), \\mathbf{a}, \\Omega] = V_P[\\mathbf{x}, \\mathbf{a}] + V_R[\\mathbf{x}'(\\mathbf{a}), \\Omega]\n",
    "$$\n",
    "where $V_P$ denotes the values realised during the prediction interval itself, and $V_R$ denotes the (time-discounted) remaining value that is expected beyond the prediction interval. Note that $V_P$ is independent of the interaction outcome $\\Omega$ and that $V_R$ depends on the action $\\mathbf{a}$ only indirectly via the impact of $\\mathbf{a}$ on the predicted state $\\mathbf{x}_P'(\\mathbf{a})$. \n",
    "\n",
    "We can now reformulate the basic value of making progress and discomforts from speed and accelerations:\n",
    "$$\n",
    "V_P[\\mathbf{x}'(\\mathbf{a}), \\mathbf{a}] = T_P \\cdot f_V(\\bar{v}, \\bar{a}) \\equiv T_P \\cdot (k_g \\bar{v} - k_{dv} \\bar{v}^2 - k_{da} \\bar{a}^2)\n",
    "$$\n",
    "where $\\bar{v}$ and $\\bar{a}$ are the average speed and acceleration during the prediction interval $T_P$, under action $\\mathbf{a}$. Note that we have now changed things slightly compared to the v0.1 framework, to instead express these values as rates per time unit, as signalled by the multiplication with $T_P$. (I have now here also opted for writing the speed change discomfort as dependent on acceleration directly, with gain $k_{da}$, rather than as dependent on the change in speed, with parameter $k_e$, as in the v0.1 equations above - it is essentially the same thing though.)\n",
    "\n",
    "The remaining value might possibly be written as:\n",
    "$$\n",
    "V_R[\\mathbf{x}'(\\mathbf{a}), \\Omega] = T_{\\Omega} \\cdot f_V(\\bar{v}_{\\Omega}, \\bar{a}_{\\Omega}) - k_w T_{\\Omega,w} \\cdot f_V(v^*, 0)\n",
    "$$\n",
    "where the function $f_V$ is the same as defined just above. The first term on the right hand side represents the value of what will be needed after the prediction interval $T_P$ to achieve outcome $\\Omega$, i.e., it is predicting a duration of time $T_{\\Omega}$ during which average speed and acceleration will be $\\bar{v}_{\\Omega}$ and $\\bar{a}_{\\Omega}$, to achieve either passing ahead of the other agent ($\\Omega = \\Omega_1$) or after it ($\\Omega = \\Omega_2$). The second term accounts for any waiting time $T_{\\Omega,w}$ that will also need to be respected under outcome $\\Omega$, before the agent can return to progressing at its free speed $v^*$. (These expressions are derived from an approximation of a general formulation of value that can be thought of as a \"delay-discounted pac-man\" sort of scenario, i.e., where the agent gets value per distance travelled, but where values further into the future are discounted, for example exponentially. Not writing that full derivation down here now though.)\n",
    "\n"
   ]
  },
  {
   "cell_type": "markdown",
   "metadata": {},
   "source": [
    "## Application to the pedestrian crossing scenario\n",
    "\n",
    "Under this new value formulation, we still have the same predicted pedestrian states under the two possible actions:\n",
    "\n",
    "$$\n",
    "\\mathbf{x}_P'(\\mathrm{wait}) = \\mathbf{x}_{P0}\n",
    "$$\n",
    "$$\n",
    "    \\mathbf{x}'_P(\\mathrm{cross}) = (y_{P0} + \\Delta v (T_p - \\Delta T / 2), \\Delta v)\n",
    "$$\n",
    "\n",
    "However the values of waiting and crossing have both changed:\n",
    "\n",
    "$$\n",
    "V[\\mathbf{x}'(\\mathbf{a}), \\mathbf{a}, \\Omega] = V_P[\\mathbf{x}_{P0}, \\mathbf{a}] + V_R[\\mathbf{x}'(\\mathbf{a}), \\Omega] \\\\\n",
    "$$\n",
    "\n",
    "with\n",
    "\n",
    "$$\n",
    "V_P[\\mathbf{x}_{P0}, \\mathbf{a}] = \n",
    "    \\left\\{ \n",
    "        \\begin{array}[ll]\n",
    "            ? 0 & \\mbox{if } \\mathbf{a} = \\mathrm{wait} \\\\\n",
    "            T_P \\cdot f_V(\\frac{\\Delta v}{2}, \\frac{\\Delta v}{\\Delta T}) & \\mbox{if } \\mathbf{a} = \\mathrm{cross} \n",
    "        \\end{array}\n",
    "    \\right.\n",
    "$$\n",
    "\n",
    "and\n",
    "\n",
    "$$\n",
    "V_R[\\mathbf{x}'(\\mathbf{a}), \\Omega] = T_{\\Omega}[\\mathbf{x}'(\\mathbf{a})] \\cdot f_V\\{\\bar{v}_{\\Omega}[\\mathbf{x}'(\\mathbf{a})], \\bar{a}_{\\Omega}[\\mathbf{x}'(\\mathbf{a})]\\} - k_w T_{\\Omega,w}[\\mathbf{x}'(\\mathbf{a})] \\cdot f_V(v^*, 0)\n",
    "$$\n",
    "\n",
    "where $T_{\\Omega}(\\mathbf{x}')$, $\\bar{v}_{\\Omega}(\\mathbf{x}')$, and $\\bar{a}_{\\Omega}(\\mathbf{x}')$ are now functions providing the duration, average speed, and average acceleration needed to achieve outcome $\\Omega$ from a predicted state $\\mathbf{x}'$, and $T_{\\Omega,w}(\\mathbf{x}')$ is the added waiting time associated with outcome $\\Omega$ given the predicted state $\\mathbf{x}'$."
   ]
  }
 ],
 "metadata": {
  "kernelspec": {
   "display_name": "Python 3",
   "language": "python",
   "name": "python3"
  },
  "language_info": {
   "codemirror_mode": {
    "name": "ipython",
    "version": 3
   },
   "file_extension": ".py",
   "mimetype": "text/x-python",
   "name": "python",
   "nbconvert_exporter": "python",
   "pygments_lexer": "ipython3",
   "version": "3.7.6"
  }
 },
 "nbformat": 4,
 "nbformat_minor": 4
}
