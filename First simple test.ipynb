{
 "cells": [
  {
   "cell_type": "code",
   "execution_count": 12,
   "metadata": {},
   "outputs": [
    {
     "name": "stderr",
     "output_type": "stream",
     "text": [
      "C:\\WinPython\\WPy64-3760\\python-3.7.6.amd64\\lib\\site-packages\\ipykernel_launcher.py:83: RuntimeWarning: divide by zero encountered in double_scalars\n"
     ]
    },
    {
     "data": {
      "image/png": "[encoded data removed]",
      "text/plain": [
       "<Figure size 432x288 with 1 Axes>"
      ]
     },
     "metadata": {
      "needs_background": "light"
     },
     "output_type": "display_data"
    },
    {
     "data": {
      "image/png": "[encoded data removed]",
      "text/plain": [
       "<Figure size 432x288 with 1 Axes>"
      ]
     },
     "metadata": {
      "needs_background": "light"
     },
     "output_type": "display_data"
    },
    {
     "data": {
      "image/png": "[encoded data removed]",
      "text/plain": [
       "<Figure size 432x288 with 1 Axes>"
      ]
     },
     "metadata": {
      "needs_background": "light"
     },
     "output_type": "display_data"
    }
   ],
   "source": [
    "%reset -f\n",
    "\n",
    "import numpy as np\n",
    "import matplotlib.pyplot as plt\n",
    "import math\n",
    "\n",
    "PARAM_k_g = 2\n",
    "PARAM_k_o = .3\n",
    "PARAM_C_v = .3\n",
    "PARAM_C_t = .3\n",
    "\n",
    "LATERAL_OBSTACLE_CLEARANCE_DISTANCE = 1\n",
    "\n",
    "START_TIME = 0 # s\n",
    "END_TIME = 15 # s\n",
    "TIME_STEP = 0.1 # s\n",
    "TIME_STAMPS = np.arange(START_TIME, END_TIME, TIME_STEP)\n",
    "\n",
    "SPEED_ACTIONS = np.array([-1, -0.5, 0, 0.5, 1]) # m/s\n",
    "HEADING_ACTIONS = np.array([-10, -5, 0, 5, 10]) * math.pi/180 # rad\n",
    "\n",
    "ACTION_DURATION = 0.3 # s\n",
    "PREDICTION_TIME = ACTION_DURATION\n",
    "ACTION_TIME_STEPS = math.ceil(ACTION_DURATION / TIME_STEP)\n",
    "PREDICTION_TIME_STEPS = math.ceil(PREDICTION_TIME / TIME_STEP)\n",
    "\n",
    "ACTIONS_VECTOR_LENGTH = TIME_STAMPS.size + PREDICTION_TIME_STEPS\n",
    "accelerations = np.zeros(ACTIONS_VECTOR_LENGTH)\n",
    "yaw_rates = np.zeros(ACTIONS_VECTOR_LENGTH)\n",
    "\n",
    "\n",
    "X_O = np.array([[5, 4.5], [7, 9]])\n",
    "N_OBSTACLES = X_O.shape[0]\n",
    "\n",
    "X_G = np.array([10, 10])\n",
    "\n",
    "\n",
    "\n",
    "def simulate(local_accelerations, local_yaw_rates, \n",
    "             i_curr_time_step, n_time_steps_to_advance):\n",
    "    \n",
    "    local_x = (x_history[i_curr_time_step, :])\n",
    "    local_speed = (speed_history[i_curr_time_step])\n",
    "    local_heading = (heading_history[i_curr_time_step])\n",
    "    \n",
    "    for i in range(i_curr_time_step + 1, i_curr_time_step + n_time_steps_to_advance + 1):\n",
    "        local_speed += local_accelerations[i-1] * TIME_STEP\n",
    "        local_heading += local_yaw_rates[i-1] * TIME_STEP\n",
    "        local_x = local_x + TIME_STEP * local_speed \\\n",
    "            * np.array([math.cos(local_heading), math.sin(local_heading)])\n",
    "    return (local_x, local_speed, local_heading)\n",
    "\n",
    "\n",
    "def add_action(state_vector, action_magnitude, i_action_time_step):\n",
    "    state_vector[i_action_time_step:i_action_time_step+ACTION_TIME_STEPS] += \\\n",
    "        action_magnitude / ACTION_DURATION;\n",
    "\n",
    "    \n",
    "def get_value_of_state(x, speed, heading, verbose = False):\n",
    "    \n",
    "    heading_vector = np.array([math.cos(heading), math.sin(heading)])\n",
    "    \n",
    "    vector_to_goal = X_G - x\n",
    "    heading_to_goal_vector = vector_to_goal / np.linalg.norm(vector_to_goal)\n",
    "    \n",
    "    heading_toward_goal_component = np.dot(heading_vector, heading_to_goal_vector)\n",
    "    goal_distance_change_rate = -heading_toward_goal_component * speed\n",
    "    \n",
    "    value = -PARAM_k_g * goal_distance_change_rate - PARAM_C_v * speed ** 2\n",
    "    \n",
    "    for i_obstacle in range(N_OBSTACLES):\n",
    "        if N_OBSTACLES == 1:\n",
    "            vector_to_obstacle = X_O - x\n",
    "        else:\n",
    "            vector_to_obstacle = X_O[i_obstacle,:] - x\n",
    "        heading_to_obstacle_vector = vector_to_obstacle / np.linalg.norm(vector_to_obstacle)\n",
    "        heading_toward_obstacle_component = np.dot(heading_vector, heading_to_obstacle_vector)\n",
    "        angle_to_obstacle_rel_heading = math.acos(heading_toward_obstacle_component)\n",
    "        lateral_distance_to_obstacle = np.linalg.norm(vector_to_obstacle) * math.sin(angle_to_obstacle_rel_heading)\n",
    "        if lateral_distance_to_obstacle < LATERAL_OBSTACLE_CLEARANCE_DISTANCE \\\n",
    "            and heading_toward_obstacle_component > 0:\n",
    "            long_distance_to_obstacle = np.linalg.norm(vector_to_obstacle) * math.cos(angle_to_obstacle_rel_heading)\n",
    "            time_to_obstacle_collision = long_distance_to_obstacle / speed\n",
    "            value += -PARAM_k_o / time_to_obstacle_collision\n",
    "        #else:\n",
    "        #    time_to_obstacle_collision = math.inf\n",
    "    \n",
    "        \n",
    "    \n",
    "    if verbose:\n",
    "        #print(angle_to_obstacle_rel_heading * 180 / math.pi)\n",
    "        #print(lateral_distance_to_obstacle, time_to_obstacle_collision)\n",
    "        print(heading_toward_goal_component)\n",
    "    \n",
    "    return value\n",
    "\n",
    "\n",
    "x_history = np.zeros((TIME_STAMPS.size, 2))\n",
    "speed_history = np.zeros(TIME_STAMPS.shape) \n",
    "heading_history = np.zeros(TIME_STAMPS.shape)\n",
    "heading_history[0] = math.pi/4.01 # rad\n",
    "\n",
    "\n",
    "\n",
    "for i_time_step, time_stamp in enumerate(TIME_STAMPS):\n",
    "    \n",
    "    #get_value_of_state(x, speed, heading, verbose = True)\n",
    "      \n",
    "    # do Euler step\n",
    "    if i_time_step > 0:\n",
    "        (x_history[i_time_step, :], speed_history[i_time_step], heading_history[i_time_step]) = \\\n",
    "            simulate(accelerations, yaw_rates, i_time_step-1, 1)\n",
    "        \n",
    "    plt.plot(x_history[i_time_step, 0], x_history[i_time_step, 1], 'k.')\n",
    "    \n",
    "    # decide on action for this time step - by looping through the alternatives and getting predicted rewards\n",
    "    best_value = -math.inf\n",
    "    for i_speed_action, speed_action in enumerate(SPEED_ACTIONS):\n",
    "        \n",
    "        # make acceleration predictions\n",
    "        if speed_action == 0:\n",
    "            predicted_accelerations = accelerations\n",
    "        else:\n",
    "            predicted_accelerations = np.copy(accelerations)\n",
    "            add_action(predicted_accelerations, speed_action, i_time_step)\n",
    "        \n",
    "        for i_heading_action, heading_action in enumerate(HEADING_ACTIONS):\n",
    "\n",
    "            # make heading predictions\n",
    "            if heading_action == 0:\n",
    "                predicted_yaw_rates = yaw_rates\n",
    "            else:\n",
    "                predicted_yaw_rates = np.copy(yaw_rates)\n",
    "                add_action(predicted_yaw_rates, heading_action, i_time_step)\n",
    "            \n",
    "            # get predicted state with this action combination\n",
    "            (pred_x, pred_speed, pred_heading) = \\\n",
    "                simulate(predicted_accelerations, predicted_yaw_rates, \\\n",
    "                         i_time_step, PREDICTION_TIME_STEPS)    \n",
    "                        \n",
    "            # get value of the predicted state\n",
    "            this_action_value = get_value_of_state(pred_x, pred_speed, pred_heading) \\\n",
    "                - PARAM_C_t * heading_action ** 2\n",
    "            #print(pred_x, pred_speed, pred_heading, this_action_value)\n",
    "                \n",
    "            if this_action_value > best_value:\n",
    "                best_value = this_action_value\n",
    "                best_speed_action = speed_action\n",
    "                best_heading_action = heading_action\n",
    "    \n",
    "    # execute the selected actions\n",
    "    if best_speed_action != 0:\n",
    "        #print('%.2f s (%.2f, %.2f): speed action %.2f' % \\\n",
    "        #      (time_stamp, x_history[i_time_step, 0], x_history[i_time_step, 1], best_speed_action))\n",
    "        add_action(accelerations, best_speed_action, i_time_step)\n",
    "    if best_heading_action != 0:\n",
    "        #print('%.2f s (%.2f, %.2f): heading action %.2f' % \\\n",
    "        #      (time_stamp, x_history[i_time_step, 0], x_history[i_time_step, 1], best_heading_action * 180/math.pi))\n",
    "        add_action(yaw_rates, best_heading_action, i_time_step)\n",
    "    \n",
    "    \n",
    "            \n",
    "\n",
    "\n",
    "for i_obstacle in range(N_OBSTACLES):\n",
    "    plt.plot(X_O[i_obstacle,0], X_O[i_obstacle,1], 'r^')\n",
    "plt.plot(X_G[0], X_G[1], 'g+')\n",
    "plt.show()\n",
    "\n",
    "plt.plot(TIME_STAMPS, speed_history, 'k-')\n",
    "plt.show()\n",
    "\n",
    "plt.plot(TIME_STAMPS, heading_history * 180 / math.pi, 'k-')\n",
    "plt.show()\n",
    "\n",
    "\n"
   ]
  },
  {
   "cell_type": "code",
   "execution_count": 1,
   "metadata": {},
   "outputs": [
    {
     "ename": "NameError",
     "evalue": "name 'np' is not defined",
     "output_type": "error",
     "traceback": [
      "\u001b[1;31m---------------------------------------------------------------------------\u001b[0m",
      "\u001b[1;31mNameError\u001b[0m                                 Traceback (most recent call last)",
      "\u001b[1;32m<ipython-input-1-38992ae5ff65>\u001b[0m in \u001b[0;36m<module>\u001b[1;34m\u001b[0m\n\u001b[1;32m----> 1\u001b[1;33m \u001b[0ma\u001b[0m \u001b[1;33m=\u001b[0m \u001b[0mnp\u001b[0m\u001b[1;33m.\u001b[0m\u001b[0marray\u001b[0m\u001b[1;33m(\u001b[0m\u001b[1;33m[\u001b[0m\u001b[1;33m[\u001b[0m\u001b[1;36m5\u001b[0m\u001b[1;33m,\u001b[0m \u001b[1;36m5\u001b[0m\u001b[1;33m]\u001b[0m\u001b[1;33m,\u001b[0m \u001b[1;33m[\u001b[0m\u001b[1;36m7\u001b[0m\u001b[1;33m,\u001b[0m \u001b[1;36m8\u001b[0m\u001b[1;33m]\u001b[0m\u001b[1;33m]\u001b[0m\u001b[1;33m)\u001b[0m\u001b[1;33m\u001b[0m\u001b[1;33m\u001b[0m\u001b[0m\n\u001b[0m\u001b[0;32m      2\u001b[0m \u001b[0mprint\u001b[0m\u001b[1;33m(\u001b[0m\u001b[0ma\u001b[0m\u001b[1;33m[\u001b[0m\u001b[1;36m0\u001b[0m\u001b[1;33m,\u001b[0m \u001b[1;36m1\u001b[0m\u001b[1;33m]\u001b[0m\u001b[1;33m)\u001b[0m\u001b[1;33m\u001b[0m\u001b[1;33m\u001b[0m\u001b[0m\n\u001b[0;32m      3\u001b[0m \u001b[0mb\u001b[0m \u001b[1;33m=\u001b[0m \u001b[0mnp\u001b[0m\u001b[1;33m.\u001b[0m\u001b[0marray\u001b[0m\u001b[1;33m(\u001b[0m\u001b[1;33m[\u001b[0m\u001b[1;36m1\u001b[0m\u001b[1;33m,\u001b[0m \u001b[1;36m2\u001b[0m\u001b[1;33m]\u001b[0m\u001b[1;33m,\u001b[0m\u001b[1;33m)\u001b[0m\u001b[1;33m\u001b[0m\u001b[1;33m\u001b[0m\u001b[0m\n\u001b[0;32m      4\u001b[0m \u001b[0mprint\u001b[0m\u001b[1;33m(\u001b[0m\u001b[0mb\u001b[0m\u001b[1;33m[\u001b[0m\u001b[1;33m:\u001b[0m\u001b[1;33m,\u001b[0m\u001b[1;36m0\u001b[0m\u001b[1;33m]\u001b[0m\u001b[1;33m)\u001b[0m\u001b[1;33m\u001b[0m\u001b[1;33m\u001b[0m\u001b[0m\n",
      "\u001b[1;31mNameError\u001b[0m: name 'np' is not defined"
     ]
    }
   ],
   "source": [
    "a = np.array([[5, 5], [7, 8]])\n",
    "print(a[0, 1])\n",
    "b = np.array([1, 2],)\n",
    "print(b[:,0])"
   ]
  },
  {
   "cell_type": "code",
   "execution_count": 4,
   "metadata": {},
   "outputs": [
    {
     "name": "stderr",
     "output_type": "stream",
     "text": [
      "C:\\GITHUB\\COMMOTIONSFramework\\one_agent.py:79: RuntimeWarning: divide by zero encountered in double_scalars\n",
      "  if lateral_distance_to_obstacle < LATERAL_OBSTACLE_CLEARANCE_DISTANCE \\\n"
     ]
    },
    {
     "data": {
      "image/png": "[encoded data removed]",
      "text/plain": [
       "<Figure size 432x288 with 1 Axes>"
      ]
     },
     "metadata": {
      "needs_background": "light"
     },
     "output_type": "display_data"
    },
    {
     "data": {
      "image/png": "[encoded data removed]",
      "text/plain": [
       "<Figure size 432x288 with 1 Axes>"
      ]
     },
     "metadata": {
      "needs_background": "light"
     },
     "output_type": "display_data"
    },
    {
     "data": {
      "image/png": "[encoded data removed]",
      "text/plain": [
       "<Figure size 432x288 with 1 Axes>"
      ]
     },
     "metadata": {
      "needs_background": "light"
     },
     "output_type": "display_data"
    }
   ],
   "source": [
    "%run one_agent.py"
   ]
  },
  {
   "cell_type": "code",
   "execution_count": null,
   "metadata": {},
   "outputs": [],
   "source": []
  },
  {
   "cell_type": "code",
   "execution_count": null,
   "metadata": {},
   "outputs": [],
   "source": []
  }
 ],
 "metadata": {
  "kernelspec": {
   "display_name": "Python 3",
   "language": "python",
   "name": "python3"
  },
  "language_info": {
   "codemirror_mode": {
    "name": "ipython",
    "version": 3
   },
   "file_extension": ".py",
   "mimetype": "text/x-python",
   "name": "python",
   "nbconvert_exporter": "python",
   "pygments_lexer": "ipython3",
   "version": "3.7.6"
  }
 },
 "nbformat": 4,
 "nbformat_minor": 4
}
